{
 "cells": [
  {
   "cell_type": "markdown",
   "metadata": {},
   "source": [
    "# <font color=\"#0b486b\">  Student Information</font>\n",
    "***\n",
    "Surname: **Zhang**  <br/>\n",
    "Firstname: **Yiming**    <br/>\n",
    "Student ID: **35224436**    <br/>\n",
    "Email: **yzha1213@student.monash.edu**    <br/>\n",
    "Your tutorial time: **12pm Wed**    <br/>\n",
    "***"
   ]
  },
  {
   "cell_type": "markdown",
   "metadata": {
    "id": "rAVPM0BnTdd4"
   },
   "source": [
    "## Section 2: Deep Learning for Sequential Data"
   ]
  },
  {
   "cell_type": "markdown",
   "metadata": {
    "id": "FAgUSME4TsCP"
   },
   "source": [
    "### <font color=\"#0b486b\">Set random seeds</font>"
   ]
  },
  {
   "cell_type": "markdown",
   "metadata": {
    "id": "5DaYHAIv4poj"
   },
   "source": [
    "We need to install the package datasets for creating BERT datasets."
   ]
  },
  {
   "cell_type": "code",
   "execution_count": null,
   "metadata": {
    "colab": {
     "base_uri": "https://localhost:8080/"
    },
    "execution": {
     "iopub.execute_input": "2025-10-25T12:30:05.327651Z",
     "iopub.status.busy": "2025-10-25T12:30:05.326923Z",
     "iopub.status.idle": "2025-10-25T12:30:11.971749Z",
     "shell.execute_reply": "2025-10-25T12:30:11.970744Z",
     "shell.execute_reply.started": "2025-10-25T12:30:05.327628Z"
    },
    "id": "o7ik_46Y4vDo",
    "outputId": "d11fcb9d-b96e-4aab-f960-41b3d165c922"
   },
   "outputs": [],
   "source": [
    "# !pip install datasets\n",
    "!pip install datasets==4.0.0\n",
    "!pip install transformers==4.57.0"
   ]
  },
  {
   "cell_type": "markdown",
   "metadata": {
    "id": "g6b0SM034sf2"
   },
   "source": [
    "We start with importing PyTorch and NumPy and setting random seeds for PyTorch and NumPy. You can use any seeds you prefer."
   ]
  },
  {
   "cell_type": "code",
   "execution_count": 31,
   "metadata": {
    "execution": {
     "iopub.execute_input": "2025-10-25T12:30:11.973595Z",
     "iopub.status.busy": "2025-10-25T12:30:11.973283Z",
     "iopub.status.idle": "2025-10-25T12:30:11.980204Z",
     "shell.execute_reply": "2025-10-25T12:30:11.979515Z",
     "shell.execute_reply.started": "2025-10-25T12:30:11.973574Z"
    },
    "id": "O7XWUry0JXCc"
   },
   "outputs": [],
   "source": [
    "import os\n",
    "import torch\n",
    "import random\n",
    "import requests\n",
    "import pandas as pd\n",
    "import numpy as np\n",
    "import torch.nn as nn\n",
    "from torch.utils.data import DataLoader\n",
    "from torch.nn.utils.rnn import pad_sequence\n",
    "from transformers import BertTokenizer\n",
    "import os\n",
    "from six.moves.urllib.request import urlretrieve\n",
    "from sklearn import preprocessing\n",
    "import matplotlib.pyplot as plt\n",
    "plt.style.use('ggplot')"
   ]
  },
  {
   "cell_type": "code",
   "execution_count": 32,
   "metadata": {
    "execution": {
     "iopub.execute_input": "2025-10-25T12:30:11.981097Z",
     "iopub.status.busy": "2025-10-25T12:30:11.980924Z",
     "iopub.status.idle": "2025-10-25T12:30:12.013065Z",
     "shell.execute_reply": "2025-10-25T12:30:12.012490Z",
     "shell.execute_reply.started": "2025-10-25T12:30:11.981083Z"
    },
    "id": "6ZoWqunmUY7L"
   },
   "outputs": [],
   "source": [
    "def seed_all(seed=1029):\n",
    "    random.seed(seed)\n",
    "    os.environ['PYTHONHASHSEED'] = str(seed)\n",
    "    np.random.seed(seed)\n",
    "    torch.manual_seed(seed)\n",
    "    torch.cuda.manual_seed(seed)\n",
    "    torch.cuda.manual_seed_all(seed)  # if you are using multi-GPU.\n",
    "    torch.backends.cudnn.benchmark = False\n",
    "    torch.backends.cudnn.deterministic = True\n",
    "seed_all(seed=1234)\n",
    "\n",
    "device = torch.device(\"cuda\" if torch.cuda.is_available() else \"cpu\")"
   ]
  },
  {
   "cell_type": "markdown",
   "metadata": {
    "id": "6VU1jS6SUl8q"
   },
   "source": [
    "## <font color=\"#0b486b\">Download and preprocess the data</font>\n",
    "\n",
    "<div style=\"text-align: right\"><font color=\"red; font-weight:bold\"><span></div>"
   ]
  },
  {
   "cell_type": "markdown",
   "metadata": {
    "id": "wQEzWmZjUulL"
   },
   "source": [
    "The dataset we use for this assignment is a question classification dataset for which the training set consists of $5,500$ questions belonging to 6 coarse question categories including:\n",
    "- abbreviation (ABBR),\n",
    "- entity (ENTY),\n",
    "- description (DESC),\n",
    "- human (HUM),\n",
    "- location (LOC) and\n",
    "- numeric (NUM).\n",
    "\n",
    "In this assignment, we will utilize a subset of this dataset, containing $2,000$ questions for training and validation. We will use 80% of those 2000 questions for trainning and the rest for validation.\n"
   ]
  },
  {
   "cell_type": "markdown",
   "metadata": {
    "id": "zOd49RTpUxxj"
   },
   "source": [
    "Preprocessing data is a crucial initial step in any machine learning or deep learning project. The *TextDataManager* class simplifies the process by providing functionalities to download and preprocess data specifically designed for the subsequent questions in this assignment. It is highly recommended to gain a comprehensive understanding of the class's functionality by **carefully reading** the content provided in the *TextDataManager* class before proceeding to answer the questions."
   ]
  },
  {
   "cell_type": "code",
   "execution_count": 33,
   "metadata": {
    "execution": {
     "iopub.execute_input": "2025-10-25T12:30:12.015002Z",
     "iopub.status.busy": "2025-10-25T12:30:12.014793Z",
     "iopub.status.idle": "2025-10-25T12:30:12.032060Z",
     "shell.execute_reply": "2025-10-25T12:30:12.031364Z",
     "shell.execute_reply.started": "2025-10-25T12:30:12.014988Z"
    },
    "id": "_C2fuJNzUhha"
   },
   "outputs": [],
   "source": [
    "class DataManager:\n",
    "    \"\"\"\n",
    "    This class manages and preprocesses a simple text dataset for a sentence classification task.\n",
    "\n",
    "    Attributes:\n",
    "        verbose (bool): Controls verbosity for printing information during data processing.\n",
    "        max_sentence_len (int): The maximum length of a sentence in the dataset.\n",
    "        str_questions (list): A list to store the string representations of the questions in the dataset.\n",
    "        str_labels (list): A list to store the string representations of the labels in the dataset.\n",
    "        numeral_labels (list): A list to store the numerical representations of the labels in the dataset.\n",
    "        maxlen (int): Maximum length for padding sequences. Sequences longer than this length will be truncated,\n",
    "            and sequences shorter than this length will be padded with zeros. Defaults to 50.\n",
    "        numeral_data (list): A list to store the numerical representations of the questions in the dataset.\n",
    "        random_state (int): Seed value for random number generation to ensure reproducibility.\n",
    "            Set this value to a specific integer to reproduce the same random sequence every time. Defaults to 6789.\n",
    "        random (np.random.RandomState): Random number generator object initialized with the given random_state.\n",
    "            It is used for various random operations in the class.\n",
    "\n",
    "    Methods:\n",
    "        maybe_download(dir_name, file_name, url, verbose=True):\n",
    "            Downloads a file from a given URL if it does not exist in the specified directory.\n",
    "            The directory and file are created if they do not exist.\n",
    "\n",
    "        read_data(dir_name, file_names):\n",
    "            Reads data from files in a directory, preprocesses it, and computes the maximum sentence length.\n",
    "            Each file is expected to contain rows in the format \"<label>:<question>\".\n",
    "            The labels and questions are stored as string representations.\n",
    "\n",
    "        manipulate_data():\n",
    "            Performs data manipulation by tokenizing, numericalizing, and padding the text data.\n",
    "            The questions are tokenized and converted into numerical sequences using a tokenizer.\n",
    "            The sequences are padded or truncated to the maximum sequence length.\n",
    "\n",
    "        train_valid_test_split(train_ratio=0.9):\n",
    "            Splits the data into training, validation, and test sets based on a given ratio.\n",
    "            The data is randomly shuffled, and the specified ratio is used to determine the size of the training set.\n",
    "            The string questions, numerical data, and numerical labels are split accordingly.\n",
    "            TensorFlow `Dataset` objects are created for the training and validation sets.\n",
    "\n",
    "\n",
    "    \"\"\"\n",
    "\n",
    "    def __init__(self, verbose=True, random_state=6789):\n",
    "        self.verbose = verbose\n",
    "        self.max_sentence_len = 0\n",
    "        self.str_questions = list()\n",
    "        self.str_labels = list()\n",
    "        self.numeral_labels = list()\n",
    "        self.numeral_data = list()\n",
    "        self.random_state = random_state\n",
    "        self.random = np.random.RandomState(random_state)\n",
    "\n",
    "    @staticmethod\n",
    "    def maybe_download(dir_name, file_name, url, verbose=True):\n",
    "        if not os.path.exists(dir_name):\n",
    "            os.mkdir(dir_name)\n",
    "        if not os.path.exists(os.path.join(dir_name, file_name)):\n",
    "            urlretrieve(url + file_name, os.path.join(dir_name, file_name))\n",
    "        if verbose:\n",
    "            print(\"Downloaded successfully {}\".format(file_name))\n",
    "\n",
    "    def read_data(self, dir_name, file_names):\n",
    "        self.str_questions = list()\n",
    "        self.str_labels = list()\n",
    "        for file_name in file_names:\n",
    "            file_path= os.path.join(dir_name, file_name)\n",
    "            with open(file_path, \"r\", encoding=\"latin-1\") as f:\n",
    "                for row in f:\n",
    "                    row_str = row.split(\":\")\n",
    "                    label, question = row_str[0], row_str[1]\n",
    "                    question = question.lower()\n",
    "                    self.str_labels.append(label)\n",
    "                    self.str_questions.append(question[0:-1])\n",
    "                    if self.max_sentence_len < len(self.str_questions[-1]):\n",
    "                        self.max_sentence_len = len(self.str_questions[-1])\n",
    "\n",
    "        # turns labels into numbers\n",
    "        le = preprocessing.LabelEncoder()\n",
    "        le.fit(self.str_labels)\n",
    "        self.numeral_labels = np.array(le.transform(self.str_labels))\n",
    "        self.str_classes = le.classes_\n",
    "        self.num_classes = len(self.str_classes)\n",
    "        if self.verbose:\n",
    "            print(\"\\nSample questions and corresponding labels... \\n\")\n",
    "            print(self.str_questions[0:5])\n",
    "            print(self.str_labels[0:5])\n",
    "\n",
    "    def manipulate_data(self):\n",
    "        self.tokenizer = BertTokenizer.from_pretrained('bert-base-uncased')\n",
    "        vocab = self.tokenizer.get_vocab()\n",
    "        self.word2idx = {w: i for i, w in enumerate(vocab)}\n",
    "        self.idx2word = {i:w for w,i in self.word2idx.items()}\n",
    "        self.vocab_size = len(self.word2idx)\n",
    "\n",
    "        token_ids = []\n",
    "        num_seqs = []\n",
    "        for text in self.str_questions:  # iterate over the list of text\n",
    "          text_seqs = self.tokenizer.tokenize(str(text))  # tokenize each text individually\n",
    "          # Convert tokens to IDs\n",
    "          token_ids = self.tokenizer.convert_tokens_to_ids(text_seqs)\n",
    "          # Convert token IDs to a tensor of indices using your word2idx mapping\n",
    "          seq_tensor = torch.LongTensor(token_ids)\n",
    "          num_seqs.append(seq_tensor)  # append the tensor for each sequence\n",
    "\n",
    "        # Pad the sequences and create a tensor\n",
    "        if num_seqs:\n",
    "          self.numeral_data = pad_sequence(num_seqs, batch_first=True)  # Pads to max length of the sequences\n",
    "          self.num_sentences, self.max_seq_len = self.numeral_data.shape\n",
    "\n",
    "    def train_valid_test_split(self, train_ratio=0.8, test_ratio = 0.1):\n",
    "        train_size = int(self.num_sentences*train_ratio) +1\n",
    "        test_size = int(self.num_sentences*test_ratio) +1\n",
    "        valid_size = self.num_sentences - (train_size + test_size)\n",
    "        data_indices = list(range(self.num_sentences))\n",
    "        random.shuffle(data_indices)\n",
    "        self.train_str_questions = [self.str_questions[i] for i in data_indices[:train_size]]\n",
    "        self.train_numeral_labels = self.numeral_labels[data_indices[:train_size]]\n",
    "        train_set_data = self.numeral_data[data_indices[:train_size]]\n",
    "        train_set_labels = self.numeral_labels[data_indices[:train_size]]\n",
    "        train_set_labels = torch.from_numpy(train_set_labels)\n",
    "        train_set = torch.utils.data.TensorDataset(train_set_data, train_set_labels)\n",
    "        self.test_str_questions = [self.str_questions[i] for i in data_indices[-test_size:]]\n",
    "        self.test_numeral_labels = self.numeral_labels[data_indices[-test_size:]]\n",
    "        test_set_data = self.numeral_data[data_indices[-test_size:]]\n",
    "        test_set_labels = self.numeral_labels[data_indices[-test_size:]]\n",
    "        test_set_labels = torch.from_numpy(test_set_labels)\n",
    "        test_set = torch.utils.data.TensorDataset(test_set_data, test_set_labels)\n",
    "        self.valid_str_questions = [self.str_questions[i] for i in data_indices[train_size:-test_size]]\n",
    "        self.valid_numeral_labels = self.numeral_labels[data_indices[train_size:-test_size]]\n",
    "        valid_set_data = self.numeral_data[data_indices[train_size:-test_size]]\n",
    "        valid_set_labels = self.numeral_labels[data_indices[train_size:-test_size]]\n",
    "        valid_set_labels = torch.from_numpy(valid_set_labels)\n",
    "        valid_set = torch.utils.data.TensorDataset(valid_set_data, valid_set_labels)\n",
    "        self.train_loader = DataLoader(train_set, batch_size=64, shuffle=True)\n",
    "        self.test_loader = DataLoader(test_set, batch_size=64, shuffle=False)\n",
    "        self.valid_loader = DataLoader(valid_set, batch_size=64, shuffle=False)"
   ]
  },
  {
   "cell_type": "code",
   "execution_count": 34,
   "metadata": {
    "colab": {
     "base_uri": "https://localhost:8080/"
    },
    "execution": {
     "iopub.execute_input": "2025-10-25T12:30:12.032942Z",
     "iopub.status.busy": "2025-10-25T12:30:12.032740Z",
     "iopub.status.idle": "2025-10-25T12:30:12.061888Z",
     "shell.execute_reply": "2025-10-25T12:30:12.061168Z",
     "shell.execute_reply.started": "2025-10-25T12:30:12.032927Z"
    },
    "id": "3npdESj6Vb_t",
    "outputId": "0cacd88c-4650-46e4-aae6-eb204c7e0a74"
   },
   "outputs": [
    {
     "name": "stdout",
     "output_type": "stream",
     "text": [
      "Loading data...\n",
      "Downloaded successfully train_2000.label\n",
      "\n",
      "Sample questions and corresponding labels... \n",
      "\n",
      "['manner how did serfdom develop in and then leave russia ?', 'cremat what films featured the character popeye doyle ?', \"manner how can i find a list of celebrities ' real names ?\", 'animal what fowl grabs the spotlight after the chinese year of the monkey ?', 'exp what is the full form of .com ?']\n",
      "['DESC', 'ENTY', 'DESC', 'ENTY', 'ABBR']\n"
     ]
    }
   ],
   "source": [
    "print('Loading data...')\n",
    "DataManager.maybe_download(\"data\", \"train_2000.label\", \"http://cogcomp.org/Data/QA/QC/\")\n",
    "\n",
    "dm = DataManager()\n",
    "dm.read_data(\"data/\", [\"train_2000.label\"])"
   ]
  },
  {
   "cell_type": "code",
   "execution_count": 35,
   "metadata": {
    "colab": {
     "base_uri": "https://localhost:8080/"
    },
    "execution": {
     "iopub.execute_input": "2025-10-25T12:30:12.062797Z",
     "iopub.status.busy": "2025-10-25T12:30:12.062551Z",
     "iopub.status.idle": "2025-10-25T12:30:12.799341Z",
     "shell.execute_reply": "2025-10-25T12:30:12.798501Z",
     "shell.execute_reply.started": "2025-10-25T12:30:12.062777Z"
    },
    "id": "EgrYZPmyVj60",
    "outputId": "59734118-14d5-4443-a295-6119dc08b758"
   },
   "outputs": [],
   "source": [
    "dm.manipulate_data()\n",
    "dm.train_valid_test_split(train_ratio=0.8, test_ratio = 0.1)"
   ]
  },
  {
   "cell_type": "code",
   "execution_count": 36,
   "metadata": {
    "colab": {
     "base_uri": "https://localhost:8080/"
    },
    "execution": {
     "iopub.execute_input": "2025-10-25T12:30:12.800397Z",
     "iopub.status.busy": "2025-10-25T12:30:12.800165Z",
     "iopub.status.idle": "2025-10-25T12:30:12.807324Z",
     "shell.execute_reply": "2025-10-25T12:30:12.806765Z",
     "shell.execute_reply.started": "2025-10-25T12:30:12.800372Z"
    },
    "id": "bH-U0sUMVnW-",
    "outputId": "4d6555de-43bf-480e-a538-99a9ad721f47"
   },
   "outputs": [
    {
     "name": "stdout",
     "output_type": "stream",
     "text": [
      "torch.Size([64, 36]) torch.Size([64])\n"
     ]
    }
   ],
   "source": [
    "for x, y in dm.train_loader:\n",
    "    print(x.shape, y.shape)\n",
    "    break"
   ]
  },
  {
   "cell_type": "markdown",
   "metadata": {
    "id": "lPPrm2_FHj-j"
   },
   "source": [
    "We now declare the `BaseTrainer` class, which will be used later to train the subsequent deep learning models for text data."
   ]
  },
  {
   "cell_type": "code",
   "execution_count": 37,
   "metadata": {
    "execution": {
     "iopub.execute_input": "2025-10-25T12:30:12.808302Z",
     "iopub.status.busy": "2025-10-25T12:30:12.808066Z",
     "iopub.status.idle": "2025-10-25T12:30:12.824968Z",
     "shell.execute_reply": "2025-10-25T12:30:12.824266Z",
     "shell.execute_reply.started": "2025-10-25T12:30:12.808281Z"
    },
    "id": "yXlNQvGn7OEb"
   },
   "outputs": [],
   "source": [
    "device = torch.device(\"cuda\" if torch.cuda.is_available() else \"cpu\")\n",
    "\n",
    "class BaseTrainer:\n",
    "    def __init__(self, model, criterion, optimizer, train_loader, val_loader):\n",
    "        self.model = model\n",
    "        self.criterion = criterion  #the loss function\n",
    "        self.optimizer = optimizer  #the optimizer\n",
    "        self.train_loader = train_loader  #the train loader\n",
    "        self.val_loader = val_loader  #the valid loader\n",
    "\n",
    "    #the function to train the model in many epochs\n",
    "    def fit(self, num_epochs):\n",
    "        self.num_batches = len(self.train_loader)\n",
    "\n",
    "        for epoch in range(num_epochs):\n",
    "            print(f'Epoch {epoch + 1}/{num_epochs}')\n",
    "            train_loss, train_accuracy = self.train_one_epoch()\n",
    "            val_loss, val_accuracy = self.validate_one_epoch()\n",
    "            print(\n",
    "                f'{self.num_batches}/{self.num_batches} - train_loss: {train_loss:.4f} - train_accuracy: {train_accuracy*100:.4f}% \\\n",
    "                - val_loss: {val_loss:.4f} - val_accuracy: {val_accuracy*100:.4f}%')\n",
    "\n",
    "    #train in one epoch, return the train_acc, train_loss\n",
    "    def train_one_epoch(self):\n",
    "        self.model.train()\n",
    "        running_loss, correct, total = 0.0, 0, 0\n",
    "        for i, data in enumerate(self.train_loader):\n",
    "            inputs, labels = data\n",
    "            inputs, labels = inputs.to(device), labels.to(device)\n",
    "            self.optimizer.zero_grad()\n",
    "            outputs = self.model(inputs)\n",
    "            loss = self.criterion(outputs, labels)\n",
    "            loss.backward()\n",
    "            self.optimizer.step()\n",
    "\n",
    "            running_loss += loss.item()\n",
    "            _, predicted = torch.max(outputs.data, 1)\n",
    "            total += labels.size(0)\n",
    "            correct += (predicted == labels).sum().item()\n",
    "        train_accuracy = correct / total\n",
    "        train_loss = running_loss / self.num_batches\n",
    "        return train_loss, train_accuracy\n",
    "\n",
    "    #evaluate on a loader and return the loss and accuracy\n",
    "    def evaluate(self, loader):\n",
    "        self.model.eval()\n",
    "        loss, correct, total = 0.0, 0, 0\n",
    "        with torch.no_grad():\n",
    "            for data in loader:\n",
    "                inputs, labels = data\n",
    "                inputs, labels = inputs.to(device), labels.to(device)\n",
    "                outputs = self.model(inputs)\n",
    "                loss = self.criterion(outputs, labels)\n",
    "                loss += loss.item()\n",
    "                _, predicted = torch.max(outputs.data, 1)\n",
    "                total += labels.size(0)\n",
    "                correct += (predicted == labels).sum().item()\n",
    "\n",
    "        accuracy = correct / total\n",
    "        loss = loss / len(self.val_loader)\n",
    "        return loss, accuracy\n",
    "\n",
    "    #return the val_acc, val_loss, be called at the end of each epoch\n",
    "    def validate_one_epoch(self):\n",
    "      val_loss, val_accuracy = self.evaluate(self.val_loader)\n",
    "      return val_loss, val_accuracy"
   ]
  },
  {
   "cell_type": "markdown",
   "metadata": {
    "id": "sPvLRNDfoSq-"
   },
   "source": [
    "## <font color=\"#0b486b\">Part 4: Transformer-based models for sequence modeling and neural embedding</font>\n",
    "\n",
    "<div style=\"text-align: right\"><font color=\"red; font-weight:bold\">[Total marks for this part: 30 marks]<span></div>"
   ]
  },
  {
   "cell_type": "markdown",
   "metadata": {
    "id": "QOoskR7Ko6Iv"
   },
   "source": [
    "#### <font color=\"red\">**Question 4.1**</font>\n",
    "\n",
    "**Implement the multi-head attention module of the Transformer for the text classification problem. The provided code is from our tutorial. In this part, we only use the output of the Transformer encoder for the classification task. For further information on the Transformer model, refer to [this paper](https://proceedings.neurips.cc/paper_files/paper/2017/file/3f5ee243547dee91fbd053c1c4a845aa-Paper.pdf).**\n",
    "\n",
    "<div style=\"text-align: right\"><font color=\"red; font-weight:bold\">[Total marks for this part: 10 marks]<span></div>\n"
   ]
  },
  {
   "cell_type": "markdown",
   "metadata": {
    "id": "LUnK0WBspLDK"
   },
   "source": [
    "Below is the code of `MultiHeadSelfAttention`, `PositionWiseFeedForward`, `PositionalEncoding`, and `EncoderLayer`."
   ]
  },
  {
   "cell_type": "code",
   "execution_count": 38,
   "metadata": {
    "execution": {
     "iopub.execute_input": "2025-10-25T12:30:12.825984Z",
     "iopub.status.busy": "2025-10-25T12:30:12.825743Z",
     "iopub.status.idle": "2025-10-25T12:30:12.847040Z",
     "shell.execute_reply": "2025-10-25T12:30:12.846467Z",
     "shell.execute_reply.started": "2025-10-25T12:30:12.825963Z"
    },
    "id": "PERuLdjTZpAl"
   },
   "outputs": [],
   "source": [
    "import math\n",
    "\n",
    "\n",
    "class MultiHeadAttention(nn.Module):\n",
    "    def __init__(self, d_model, num_heads):\n",
    "        super(MultiHeadAttention, self).__init__()\n",
    "        # Ensure that the model dimension (d_model) is divisible by the number of heads\n",
    "        assert d_model % num_heads == 0, \"d_model must be divisible by num_heads\"\n",
    "\n",
    "        # Initialize dimensions\n",
    "        self.d_model = d_model # Model's dimension\n",
    "        self.num_heads = num_heads # Number of attention heads\n",
    "        self.d_k = d_model // num_heads # Dimension of each head's key, query, and value\n",
    "\n",
    "        # Linear layers for transforming inputs\n",
    "        self.W_q = nn.Linear(d_model, d_model) # Query transformation\n",
    "        self.W_k = nn.Linear(d_model, d_model) # Key transformation\n",
    "        self.W_v = nn.Linear(d_model, d_model) # Value transformation\n",
    "        self.W_o = nn.Linear(d_model, d_model) # Output transformation\n",
    "\n",
    "    def scaled_dot_product_attention(self, Q, K, V):\n",
    "        # Calculate attention scores\n",
    "        attn_scores = torch.matmul(Q, K.transpose(-2, -1)) / math.sqrt(self.d_k)\n",
    "\n",
    "        # Apply mask if provided (useful for preventing attention to certain parts like padding)\n",
    "        #if mask is not None:\n",
    "            #attn_scores = attn_scores.masked_fill(mask == 0, -1e9)\n",
    "\n",
    "        # Softmax is applied to obtain attention probabilities\n",
    "        attn_probs = torch.softmax(attn_scores, dim=-1)\n",
    "\n",
    "        # Multiply by values to obtain the final output\n",
    "        output = torch.matmul(attn_probs, V)\n",
    "        return output\n",
    "\n",
    "    def split_heads(self, x):\n",
    "        # Reshape the input to have num_heads for multi-head attention\n",
    "        batch_size, seq_length, d_model = x.size()\n",
    "        return x.view(batch_size, seq_length, self.num_heads, self.d_k).transpose(1, 2)\n",
    "\n",
    "    def combine_heads(self, x):\n",
    "        # Combine the multiple heads back to original shape\n",
    "        batch_size, _, seq_length, d_k = x.size()\n",
    "        return x.transpose(1, 2).contiguous().view(batch_size, seq_length, self.d_model)\n",
    "\n",
    "    def forward(self, Q, K, V):\n",
    "        # Apply linear transformations and split heads\n",
    "        Q = self.split_heads(self.W_q(Q))\n",
    "        K = self.split_heads(self.W_k(K))\n",
    "        V = self.split_heads(self.W_v(V))\n",
    "\n",
    "        # Perform scaled dot-product attention\n",
    "        attn_output = self.scaled_dot_product_attention(Q, K, V)\n",
    "\n",
    "        # Combine heads and apply output transformation\n",
    "        output = self.W_o(self.combine_heads(attn_output))\n",
    "        return output"
   ]
  },
  {
   "cell_type": "code",
   "execution_count": 39,
   "metadata": {
    "execution": {
     "iopub.execute_input": "2025-10-25T12:30:12.849854Z",
     "iopub.status.busy": "2025-10-25T12:30:12.849591Z",
     "iopub.status.idle": "2025-10-25T12:30:12.868827Z",
     "shell.execute_reply": "2025-10-25T12:30:12.868245Z",
     "shell.execute_reply.started": "2025-10-25T12:30:12.849840Z"
    },
    "id": "J4MZuO59pR0T"
   },
   "outputs": [],
   "source": [
    "class PositionWiseFeedForward(nn.Module):\n",
    "    def __init__(self, d_model, d_ff):\n",
    "        super(PositionWiseFeedForward, self).__init__()\n",
    "        self.fc1 = nn.Linear(d_model, d_ff)\n",
    "        self.fc2 = nn.Linear(d_ff, d_model)\n",
    "        self.relu = nn.ReLU()\n",
    "\n",
    "    def forward(self, x):\n",
    "        return self.fc2(self.relu(self.fc1(x)))"
   ]
  },
  {
   "cell_type": "code",
   "execution_count": 40,
   "metadata": {
    "execution": {
     "iopub.execute_input": "2025-10-25T12:30:12.869655Z",
     "iopub.status.busy": "2025-10-25T12:30:12.869434Z",
     "iopub.status.idle": "2025-10-25T12:30:12.885747Z",
     "shell.execute_reply": "2025-10-25T12:30:12.885143Z",
     "shell.execute_reply.started": "2025-10-25T12:30:12.869639Z"
    },
    "id": "qq15ROA9pV3N"
   },
   "outputs": [],
   "source": [
    "import math\n",
    "\n",
    "class PositionalEncoding(nn.Module):\n",
    "    def __init__(self, d_model, max_seq_length):\n",
    "        super(PositionalEncoding, self).__init__()\n",
    "\n",
    "        pe = torch.zeros(max_seq_length, d_model)\n",
    "        position = torch.arange(0, max_seq_length, dtype=torch.float).unsqueeze(1)\n",
    "        div_term = torch.exp(torch.arange(0, d_model, 2).float() * -(math.log(10000.0) / d_model))\n",
    "\n",
    "        pe[:, 0::2] = torch.sin(position * div_term)\n",
    "        pe[:, 1::2] = torch.cos(position * div_term)\n",
    "\n",
    "        self.register_buffer('pe', pe.unsqueeze(0))\n",
    "\n",
    "    def forward(self, x):\n",
    "        return x + self.pe[:, :x.size(1)]"
   ]
  },
  {
   "cell_type": "code",
   "execution_count": 41,
   "metadata": {
    "execution": {
     "iopub.execute_input": "2025-10-25T12:30:12.886595Z",
     "iopub.status.busy": "2025-10-25T12:30:12.886357Z",
     "iopub.status.idle": "2025-10-25T12:30:12.906016Z",
     "shell.execute_reply": "2025-10-25T12:30:12.905463Z",
     "shell.execute_reply.started": "2025-10-25T12:30:12.886572Z"
    },
    "id": "HKaj3paKqTmG"
   },
   "outputs": [],
   "source": [
    "class EncoderLayer(nn.Module):\n",
    "    def __init__(self, d_model, num_heads, d_ff, dropout):\n",
    "        super(EncoderLayer, self).__init__()\n",
    "        self.self_attn = MultiHeadAttention(d_model, num_heads)\n",
    "        self.feed_forward = PositionWiseFeedForward(d_model, d_ff)\n",
    "        self.norm1 = nn.LayerNorm(d_model)\n",
    "        self.norm2 = nn.LayerNorm(d_model)\n",
    "        self.dropout = nn.Dropout(dropout)\n",
    "\n",
    "    def forward(self, x):\n",
    "        attn_output = self.self_attn(x, x, x)\n",
    "        x = self.norm1(x + self.dropout(attn_output))\n",
    "        ff_output = self.feed_forward(x)\n",
    "        x = self.norm2(x + self.dropout(ff_output))\n",
    "        return x"
   ]
  },
  {
   "cell_type": "markdown",
   "metadata": {
    "id": "pI9I1Gl1ptq8"
   },
   "source": [
    "Your task is to develop `TransformerClassifier` in which we input the embedding with the shape `[batch_size, seq_len, embed_dim]` to some `EncoderLayer` (i.e., num_layers specifies the number of EncoderLayer) and then compute the average of all token embeddings (i.e., `[batch_size, seq_len, embed_dim]`) across the `seq_len`. Finally, on the top of this average embedding, we build up a linear layer for making predictions."
   ]
  },
  {
   "cell_type": "code",
   "execution_count": 42,
   "metadata": {
    "execution": {
     "iopub.execute_input": "2025-10-25T12:30:12.907019Z",
     "iopub.status.busy": "2025-10-25T12:30:12.906680Z",
     "iopub.status.idle": "2025-10-25T12:30:12.922019Z",
     "shell.execute_reply": "2025-10-25T12:30:12.921480Z",
     "shell.execute_reply.started": "2025-10-25T12:30:12.906996Z"
    },
    "id": "VwzVfN2dpY_p"
   },
   "outputs": [],
   "source": [
    "class TransformerClassifier(nn.Module):\n",
    "    def __init__(self, embed_dim, num_heads, ff_dim, num_layers, dropout_rate=0.2, data_manager = None):\n",
    "        super(TransformerClassifier, self).__init__()\n",
    "        self.vocab_size = data_manager.vocab_size\n",
    "        self.num_classes = data_manager.num_classes\n",
    "        self.embed_dim = embed_dim\n",
    "        self.max_seq_len = data_manager.max_seq_len\n",
    "        self.num_heads = num_heads\n",
    "        self.ff_dim = ff_dim\n",
    "        self.num_layers = num_layers\n",
    "        self.dropout_rate = dropout_rate\n",
    "\n",
    "    def build(self):\n",
    "        #Insert your code here\n",
    "        self.embedding = nn.Embedding(self.vocab_size, self.embed_dim)\n",
    "        \n",
    "        # positional encoding\n",
    "        self.pos_encoding = PositionalEncoding(self.embed_dim, self.max_seq_len)\n",
    "        \n",
    "        # encoder layers\n",
    "        self.encoder_layers = nn.ModuleList([\n",
    "            EncoderLayer(self.embed_dim, self.num_heads, self.ff_dim, self.dropout_rate)\n",
    "            for _ in range(self.num_layers)\n",
    "        ])\n",
    "        \n",
    "        # output layer\n",
    "        self.output_layer = nn.Linear(self.embed_dim, self.num_classes)\n",
    "\n",
    "\n",
    "    def forward(self, x):\n",
    "        #Insert your code here\n",
    "        embedded = self.embedding(x)\n",
    "        \n",
    "        # add positional encoding\n",
    "        embedded = self.pos_encoding(embedded)\n",
    "        \n",
    "        # pass through encoder layers\n",
    "        output = embedded\n",
    "        for encoder_layer in self.encoder_layers:\n",
    "            output = encoder_layer(output)\n",
    "            \n",
    "        # average pooling across the sequence length\n",
    "        output = torch.mean(output, dim=1)\n",
    "        \n",
    "        return self.output_layer(output)\n",
    "\n",
    "\n"
   ]
  },
  {
   "cell_type": "code",
   "execution_count": 43,
   "metadata": {
    "execution": {
     "iopub.execute_input": "2025-10-25T12:30:12.922926Z",
     "iopub.status.busy": "2025-10-25T12:30:12.922675Z",
     "iopub.status.idle": "2025-10-25T12:32:55.022632Z",
     "shell.execute_reply": "2025-10-25T12:32:55.021972Z",
     "shell.execute_reply.started": "2025-10-25T12:30:12.922907Z"
    },
    "id": "V4sjIOzQrn3b"
   },
   "outputs": [
    {
     "name": "stdout",
     "output_type": "stream",
     "text": [
      "Epoch 1/30\n",
      "26/26 - train_loss: 2.0195 - train_accuracy: 22.4235%                 - val_loss: 0.8066 - val_accuracy: 12.6263%\n",
      "Epoch 2/30\n",
      "26/26 - train_loss: 1.7231 - train_accuracy: 18.8007%                 - val_loss: 0.8273 - val_accuracy: 12.6263%\n",
      "Epoch 3/30\n",
      "26/26 - train_loss: 1.6846 - train_accuracy: 21.9238%                 - val_loss: 0.8405 - val_accuracy: 26.2626%\n",
      "Epoch 4/30\n",
      "26/26 - train_loss: 1.6877 - train_accuracy: 21.9863%                 - val_loss: 0.7704 - val_accuracy: 27.2727%\n",
      "Epoch 5/30\n",
      "26/26 - train_loss: 1.6989 - train_accuracy: 20.8620%                 - val_loss: 0.7289 - val_accuracy: 27.2727%\n",
      "Epoch 6/30\n",
      "26/26 - train_loss: 1.6803 - train_accuracy: 21.3616%                 - val_loss: 0.7095 - val_accuracy: 27.2727%\n",
      "Epoch 7/30\n",
      "26/26 - train_loss: 1.6395 - train_accuracy: 26.2961%                 - val_loss: 0.7330 - val_accuracy: 37.3737%\n",
      "Epoch 8/30\n",
      "26/26 - train_loss: 1.3738 - train_accuracy: 39.1006%                 - val_loss: 0.7387 - val_accuracy: 31.3131%\n",
      "Epoch 9/30\n",
      "26/26 - train_loss: 1.3327 - train_accuracy: 37.6015%                 - val_loss: 0.6473 - val_accuracy: 45.9596%\n",
      "Epoch 10/30\n",
      "26/26 - train_loss: 1.3249 - train_accuracy: 39.9750%                 - val_loss: 0.6861 - val_accuracy: 45.9596%\n",
      "Epoch 11/30\n",
      "26/26 - train_loss: 1.3189 - train_accuracy: 40.2873%                 - val_loss: 0.6670 - val_accuracy: 36.8687%\n",
      "Epoch 12/30\n",
      "26/26 - train_loss: 1.3511 - train_accuracy: 40.2249%                 - val_loss: 0.6711 - val_accuracy: 45.9596%\n",
      "Epoch 13/30\n",
      "26/26 - train_loss: 1.3152 - train_accuracy: 38.9756%                 - val_loss: 0.6618 - val_accuracy: 45.9596%\n",
      "Epoch 14/30\n",
      "26/26 - train_loss: 1.3364 - train_accuracy: 40.2873%                 - val_loss: 0.6684 - val_accuracy: 45.9596%\n",
      "Epoch 15/30\n",
      "26/26 - train_loss: 1.2674 - train_accuracy: 39.5378%                 - val_loss: 0.6410 - val_accuracy: 48.9899%\n",
      "Epoch 16/30\n",
      "26/26 - train_loss: 1.2080 - train_accuracy: 43.2854%                 - val_loss: 0.6185 - val_accuracy: 52.0202%\n",
      "Epoch 17/30\n",
      "26/26 - train_loss: 1.2382 - train_accuracy: 40.9119%                 - val_loss: 0.6292 - val_accuracy: 52.0202%\n",
      "Epoch 18/30\n",
      "26/26 - train_loss: 1.2265 - train_accuracy: 42.4110%                 - val_loss: 0.6471 - val_accuracy: 42.9293%\n",
      "Epoch 19/30\n",
      "26/26 - train_loss: 1.2401 - train_accuracy: 43.7227%                 - val_loss: 0.6808 - val_accuracy: 52.0202%\n",
      "Epoch 20/30\n",
      "26/26 - train_loss: 1.2177 - train_accuracy: 42.6608%                 - val_loss: 0.6830 - val_accuracy: 52.0202%\n",
      "Epoch 21/30\n",
      "26/26 - train_loss: 1.2324 - train_accuracy: 41.7239%                 - val_loss: 0.6623 - val_accuracy: 52.0202%\n",
      "Epoch 22/30\n",
      "26/26 - train_loss: 1.2359 - train_accuracy: 40.6621%                 - val_loss: 0.6318 - val_accuracy: 52.0202%\n",
      "Epoch 23/30\n",
      "26/26 - train_loss: 1.1551 - train_accuracy: 42.0362%                 - val_loss: 2.0134 - val_accuracy: 35.3535%\n",
      "Epoch 24/30\n",
      "26/26 - train_loss: 1.2195 - train_accuracy: 50.5934%                 - val_loss: 1.0479 - val_accuracy: 43.4343%\n",
      "Epoch 25/30\n",
      "26/26 - train_loss: 0.9268 - train_accuracy: 54.2161%                 - val_loss: 0.2734 - val_accuracy: 71.7172%\n",
      "Epoch 26/30\n",
      "26/26 - train_loss: 0.6357 - train_accuracy: 66.7083%                 - val_loss: 0.2279 - val_accuracy: 71.2121%\n",
      "Epoch 27/30\n",
      "26/26 - train_loss: 0.4715 - train_accuracy: 76.0775%                 - val_loss: 0.1273 - val_accuracy: 83.3333%\n",
      "Epoch 28/30\n",
      "26/26 - train_loss: 0.4462 - train_accuracy: 78.4510%                 - val_loss: 0.3573 - val_accuracy: 73.2323%\n",
      "Epoch 29/30\n",
      "26/26 - train_loss: 0.4136 - train_accuracy: 80.5746%                 - val_loss: 0.1292 - val_accuracy: 82.3232%\n",
      "Epoch 30/30\n",
      "26/26 - train_loss: 0.3259 - train_accuracy: 88.6946%                 - val_loss: 0.1456 - val_accuracy: 90.4040%\n"
     ]
    }
   ],
   "source": [
    "transformer = TransformerClassifier(embed_dim=512, num_heads=8, ff_dim=2048, num_layers=12, dropout_rate=0.1, data_manager= dm)\n",
    "transformer.build()\n",
    "transformer = transformer.to(device)\n",
    "criterion = nn.CrossEntropyLoss()\n",
    "optimizer = torch.optim.Adam(transformer.parameters(), lr=1e-4, betas=(0.9, 0.98), eps=1e-9)\n",
    "trainer = BaseTrainer(model= transformer, criterion=criterion, optimizer=optimizer, train_loader=dm.train_loader, val_loader=dm.valid_loader)\n",
    "trainer.fit(num_epochs=30)\n"
   ]
  },
  {
   "cell_type": "markdown",
   "metadata": {
    "id": "aMbhi0_d0NL-"
   },
   "source": [
    "#### <font color=\"red\">**Question 4.2**</font>\n",
    "**Prefix prompt-tuning with Transformers: You need to implement the prefix prompt-tuning with Transformers. Basically, we base on a pre-trained Transformer, add prefix prompts, and do fine-tuning for a target dataset.**\n",
    "\n",
    "<div style=\"text-align: right\"><font color=\"red; font-weight:bold\">[Total marks for this part: 10 marks]<span></div>"
   ]
  },
  {
   "cell_type": "markdown",
   "metadata": {
    "id": "UyecWD190TP1"
   },
   "source": [
    "To implement prefix prompt-tuning with pretrained Transformers, we first need to create the Bert dataset."
   ]
  },
  {
   "cell_type": "code",
   "execution_count": 44,
   "metadata": {
    "colab": {
     "base_uri": "https://localhost:8080/",
     "height": 118,
     "referenced_widgets": [
      "f22df25bbdfd4c318046b5881431d8f2",
      "6d4ffe3df6844532aa9924e7ca267315",
      "c92e8fce7d1d4dd7bc168a9a59c01365",
      "565b8a47e6d14cdfa61b4b38d031b938",
      "1afe04a339424689bd06b77f4ad4159b",
      "c5b843c5f713486387857fa7f8cbec64",
      "53fc60f4c298454ba42cb1a403438c90",
      "53992ff696954791ab947ec92a7903a0",
      "f2c08ed9df874b169a421f3b76253bae",
      "ac09d663956c4e6e9fdea5c9af136df4",
      "0bb982e0a7b04448a2cd3d004d4cb15c"
     ]
    },
    "execution": {
     "iopub.execute_input": "2025-10-25T12:32:55.023688Z",
     "iopub.status.busy": "2025-10-25T12:32:55.023414Z",
     "iopub.status.idle": "2025-10-25T12:32:55.447300Z",
     "shell.execute_reply": "2025-10-25T12:32:55.446747Z",
     "shell.execute_reply.started": "2025-10-25T12:32:55.023664Z"
    },
    "id": "mq3PiV2UrueO",
    "outputId": "88bf9c81-023e-4965-b26c-341e883a818c"
   },
   "outputs": [
    {
     "data": {
      "application/vnd.jupyter.widget-view+json": {
       "model_id": "c5c80bb3b2ed48bcb03105cd5aecb460",
       "version_major": 2,
       "version_minor": 0
      },
      "text/plain": [
       "Map:   0%|          | 0/2000 [00:00<?, ? examples/s]"
      ]
     },
     "metadata": {},
     "output_type": "display_data"
    },
    {
     "name": "stdout",
     "output_type": "stream",
     "text": [
      "Dataset({\n",
      "    features: ['text', 'label', 'input_ids', 'token_type_ids', 'attention_mask'],\n",
      "    num_rows: 2000\n",
      "})\n"
     ]
    }
   ],
   "source": [
    "from transformers import AutoModel, AutoTokenizer\n",
    "from torch.optim import AdamW\n",
    "from datasets import Dataset\n",
    "\n",
    "model_name = \"bert-base-uncased\"  # BERT or any similar model\n",
    "\n",
    "# Tokenize input and prepare model inputs\n",
    "tokenizer = AutoTokenizer.from_pretrained(model_name)\n",
    "\n",
    "dataset = Dataset.from_dict({\"text\": dm.str_questions, \"label\": dm.numeral_labels})\n",
    "\n",
    "# Tokenize the dataset\n",
    "def tokenize_function(examples):\n",
    "    return tokenizer(examples[\"text\"], padding=\"max_length\", truncation=True, max_length= 36)\n",
    "\n",
    "dataset = dataset.map(tokenize_function, batched=True)\n",
    "dataset.set_format(type=\"torch\", columns=[\"input_ids\", \"attention_mask\", \"label\"])\n",
    "print(dataset)"
   ]
  },
  {
   "cell_type": "markdown",
   "metadata": {
    "id": "ASKOrO5n1ckY"
   },
   "source": [
    "The following function splits the BERT dataset `dataset` into three BERT datasets for training, valid, and testing."
   ]
  },
  {
   "cell_type": "code",
   "execution_count": 45,
   "metadata": {
    "execution": {
     "iopub.execute_input": "2025-10-25T12:32:55.448273Z",
     "iopub.status.busy": "2025-10-25T12:32:55.447980Z",
     "iopub.status.idle": "2025-10-25T12:32:55.454153Z",
     "shell.execute_reply": "2025-10-25T12:32:55.453410Z",
     "shell.execute_reply.started": "2025-10-25T12:32:55.448250Z"
    },
    "id": "UDgfnCV70gzG"
   },
   "outputs": [],
   "source": [
    "def train_valid_test_split(dataset, train_ratio=0.8, test_ratio = 0.1):\n",
    "    num_sentences = len(dataset)\n",
    "    train_size = int(num_sentences*train_ratio) +1\n",
    "    test_size = int(num_sentences*test_ratio) +1\n",
    "    valid_size = num_sentences - (train_size + test_size)\n",
    "    train_set = dataset[:train_size]\n",
    "    train_set = Dataset.from_dict(train_set)\n",
    "    train_set.set_format(type=\"torch\", columns=[\"input_ids\", \"attention_mask\", \"label\"])\n",
    "    test_set = dataset[-test_size:]\n",
    "    test_set = Dataset.from_dict(test_set)\n",
    "    test_set.set_format(type=\"torch\", columns=[\"input_ids\", \"attention_mask\", \"label\"])\n",
    "    valid_set = dataset[train_size:-test_size]\n",
    "    valid_set = Dataset.from_dict(valid_set)\n",
    "    valid_set.set_format(type=\"torch\", columns=[\"input_ids\", \"attention_mask\", \"label\"])\n",
    "    train_loader = DataLoader(train_set, batch_size=64, shuffle=True)\n",
    "    test_loader = DataLoader(test_set, batch_size=64, shuffle=False)\n",
    "    valid_loader = DataLoader(valid_set, batch_size=64, shuffle=False)\n",
    "    return train_loader, test_loader, valid_loader\n"
   ]
  },
  {
   "cell_type": "code",
   "execution_count": 46,
   "metadata": {
    "execution": {
     "iopub.execute_input": "2025-10-25T12:32:55.454925Z",
     "iopub.status.busy": "2025-10-25T12:32:55.454767Z",
     "iopub.status.idle": "2025-10-25T12:32:55.536488Z",
     "shell.execute_reply": "2025-10-25T12:32:55.535955Z",
     "shell.execute_reply.started": "2025-10-25T12:32:55.454912Z"
    },
    "id": "s_sEtXml1lT7"
   },
   "outputs": [],
   "source": [
    "train_loader, test_loader, valid_loader = train_valid_test_split(dataset)"
   ]
  },
  {
   "cell_type": "markdown",
   "metadata": {
    "id": "S3jHATGX2hn4"
   },
   "source": [
    "You need to implement the class `PrefixTuningForClassification` for the prefix prompt fine-tuning. We first load a pre-trained BERT model specified by `model_name`. The parameter `prefix_length` specifies the length of the prefix prompts we add to the pre-trained BERT model. Specifically, given the input batch `[batch_size, seq_len]`, we input to the embedding layer of the pre-trained BERT model to obtain `[batch_size, seq_len, embed_size]`. We create the prefix prompts $P$ of the size `[prefix_length, embed_size]` and concatenate to the embeddings from the pre-trained BERT to obtain `[batch_size, seq_len + prefix_length, embed_size]`. This concatenation tensor will then be fed to the encoder layers of the pre-trained BERT layer to obtain the last `[batch_size, seq_len + prefix_length, embed_size]`."
   ]
  },
  {
   "cell_type": "markdown",
   "metadata": {
    "id": "NXFogDf1jVD0"
   },
   "source": [
    "We then take mean across the seq_len to obtain `[batch_size, embed_size]` on which we can build up a linear layer for making predictions. Please note that **the parameters to tune include the prefix prompts $P$** and **the output linear layer**, and you should freeze the parameters of the BERT pre-trained model. Moreover, your code should cover the edge case when `prefix_length=None`. In this case, we do not insert any prefix prompts and we only do fine-tuning for the output linear layer on top.  "
   ]
  },
  {
   "cell_type": "code",
   "execution_count": 47,
   "metadata": {
    "execution": {
     "iopub.execute_input": "2025-10-25T12:32:55.537352Z",
     "iopub.status.busy": "2025-10-25T12:32:55.537188Z",
     "iopub.status.idle": "2025-10-25T12:32:55.544442Z",
     "shell.execute_reply": "2025-10-25T12:32:55.543735Z",
     "shell.execute_reply.started": "2025-10-25T12:32:55.537340Z"
    },
    "id": "bZtGBqQV16Kj"
   },
   "outputs": [],
   "source": [
    "class PrefixTuningForClassification(nn.Module):\n",
    "    def __init__(self, model_name, prefix_length=None, data_manager = None):\n",
    "        super(PrefixTuningForClassification, self).__init__()\n",
    "\n",
    "        # Load the pretrained transformer model (BERT-like model)\n",
    "        self.model = AutoModel.from_pretrained(model_name).to(device)\n",
    "        self.hidden_size =  self.model.config.hidden_size\n",
    "        self.prefix_length = prefix_length\n",
    "        self.num_classes = data_manager.num_classes\n",
    "        # Insert your code here\n",
    "        if self.prefix_length is not None:\n",
    "            self.prefix_embeddings = nn.Parameter(torch.randn(self.prefix_length, self.hidden_size))\n",
    "            \n",
    "        # freeze the pre-trained parameters of the BERT model\n",
    "        for param in self.model.parameters():\n",
    "            param.requires_grad = False\n",
    "            \n",
    "        # add a new classification head\n",
    "        self.classifier = nn.Linear(self.hidden_size, self.num_classes)\n",
    "\n",
    "    def forward(self, input_ids, attention_mask):\n",
    "        # Insert your code here\n",
    "        embeddings = self.model.embeddings(input_ids)\n",
    "        \n",
    "        # add prefix embeddings if specified\n",
    "        if self.prefix_length is not None:\n",
    "            batch_size = embeddings.size(0)\n",
    "            prefix_embeddings = self.prefix_embeddings.unsqueeze(0).expand(batch_size, -1, -1) # repeat?\n",
    "            embeddings = torch.cat([prefix_embeddings, embeddings], dim=1)\n",
    "            # update the attention mask\n",
    "            prefix_attention_mask = torch.ones(batch_size, self.prefix_length, device=attention_mask.device)\n",
    "            attention_mask = torch.cat([prefix_attention_mask, attention_mask], dim=1)\n",
    "            \n",
    "        # pass through the encode layers\n",
    "        output = self.model.encoder(embeddings, attention_mask=attention_mask.unsqueeze(1).unsqueeze(2))\n",
    "        \n",
    "        # use the last hidden state for classification\n",
    "        if self.prefix_length is not None:\n",
    "            last_hidden_state = output.last_hidden_state[:, self.prefix_length:, :]\n",
    "        else:\n",
    "            last_hidden_state = output.last_hidden_state\n",
    "            \n",
    "        # average pooling\n",
    "        pooled_output = torch.mean(last_hidden_state, dim=1)\n",
    "        \n",
    "        # do classification\n",
    "        return self.classifier(pooled_output)\n"
   ]
  },
  {
   "cell_type": "markdown",
   "metadata": {
    "id": "RtYVNYXi24Os"
   },
   "source": [
    "You can use the following `FineTunedBaseTrainer` to train the prompt fine-tuning models."
   ]
  },
  {
   "cell_type": "code",
   "execution_count": 48,
   "metadata": {
    "execution": {
     "iopub.execute_input": "2025-10-25T12:32:55.545913Z",
     "iopub.status.busy": "2025-10-25T12:32:55.545656Z",
     "iopub.status.idle": "2025-10-25T12:32:55.565323Z",
     "shell.execute_reply": "2025-10-25T12:32:55.564602Z",
     "shell.execute_reply.started": "2025-10-25T12:32:55.545891Z"
    },
    "id": "NmRkMqYB24tv"
   },
   "outputs": [],
   "source": [
    "class FineTunedBaseTrainer:\n",
    "    def __init__(self, model, criterion, optimizer, train_loader, val_loader):\n",
    "        self.model = model\n",
    "        self.criterion = criterion  #the loss function\n",
    "        self.optimizer = optimizer  #the optimizer\n",
    "        self.train_loader = train_loader  #the train loader\n",
    "        self.val_loader = val_loader  #the valid loader\n",
    "\n",
    "    #the function to train the model in many epochs\n",
    "    def fit(self, num_epochs):\n",
    "        self.num_batches = len(self.train_loader)\n",
    "\n",
    "        for epoch in range(num_epochs):\n",
    "            print(f'Epoch {epoch + 1}/{num_epochs}')\n",
    "            train_loss, train_accuracy = self.train_one_epoch()\n",
    "            val_loss, val_accuracy = self.validate_one_epoch()\n",
    "            print(\n",
    "                f'{self.num_batches}/{self.num_batches} - train_loss: {train_loss:.4f} - train_accuracy: {train_accuracy*100:.4f}% \\\n",
    "                - val_loss: {val_loss:.4f} - val_accuracy: {val_accuracy*100:.4f}%')\n",
    "\n",
    "    #train in one epoch, return the train_acc, train_loss\n",
    "    def train_one_epoch(self):\n",
    "        self.model.train()\n",
    "        running_loss, correct, total = 0.0, 0, 0\n",
    "        for batch in self.train_loader:\n",
    "            input_ids = batch[\"input_ids\"].to(device)\n",
    "            attention_mask = batch[\"attention_mask\"].to(device)\n",
    "            labels = batch[\"label\"].to(device)\n",
    "            self.optimizer.zero_grad()\n",
    "            outputs = self.model(input_ids= input_ids, attention_mask= attention_mask)\n",
    "            loss = self.criterion(outputs, labels)\n",
    "            loss.backward()\n",
    "            self.optimizer.step()\n",
    "\n",
    "            running_loss += loss.item()\n",
    "            _, predicted = torch.max(outputs.data, 1)\n",
    "            total += labels.size(0)\n",
    "            correct += (predicted == labels).sum().item()\n",
    "        train_accuracy = correct / total\n",
    "        train_loss = running_loss / self.num_batches\n",
    "        return train_loss, train_accuracy\n",
    "\n",
    "    #evaluate on a loader and return the loss and accuracy\n",
    "    def evaluate(self, loader):\n",
    "        self.model.eval()\n",
    "        loss, correct, total = 0.0, 0, 0\n",
    "        with torch.no_grad():\n",
    "            for batch in loader:\n",
    "                input_ids = batch[\"input_ids\"].to(device)\n",
    "                labels = batch[\"label\"].to(device)\n",
    "                attention_mask = batch[\"attention_mask\"].to(device)\n",
    "                outputs = self.model(input_ids= input_ids, attention_mask= attention_mask)\n",
    "                loss = self.criterion(outputs, labels)\n",
    "                loss += loss.item()\n",
    "                _, predicted = torch.max(outputs.data, 1)\n",
    "                total += labels.size(0)\n",
    "                correct += (predicted == labels).sum().item()\n",
    "\n",
    "        accuracy = correct / total\n",
    "        loss = loss / len(self.val_loader)\n",
    "        return loss, accuracy\n",
    "\n",
    "    #return the val_acc, val_loss, be called at the end of each epoch\n",
    "    def validate_one_epoch(self):\n",
    "      val_loss, val_accuracy = self.evaluate(self.val_loader)\n",
    "      return val_loss, val_accuracy"
   ]
  },
  {
   "cell_type": "markdown",
   "metadata": {
    "id": "4KQhBHPe20zo"
   },
   "source": [
    "We declare and train the prefix-prompt tuning model. In addition, you need to be patient with this model because it might converge slowly with many epochs."
   ]
  },
  {
   "cell_type": "code",
   "execution_count": 49,
   "metadata": {
    "colab": {
     "base_uri": "https://localhost:8080/",
     "height": 49,
     "referenced_widgets": [
      "82882b5f60124671a24a441dd69744f0",
      "46b5dadbe28349a0bedd1f29f21fdb1a",
      "22aae80a680146349e893e8b6bf4f1cb",
      "f5749f315a094134bb7c5609cc63ebfa",
      "0b93f82459a947fdbfe51344084430e0",
      "77b75aa87f89451bbab3c1bf144e4086",
      "21ebdfb79e4e4085bc96e41f600b7762",
      "998fe40c1f97456e875b371516d7a76b",
      "3a51a333d82848faa4df9fb4e8ea10ed",
      "17bb0346995d4dfd85685c3fadaccfa3",
      "498990bbfaa84c4582b061384948343b"
     ]
    },
    "execution": {
     "iopub.execute_input": "2025-10-25T12:32:55.566198Z",
     "iopub.status.busy": "2025-10-25T12:32:55.566020Z",
     "iopub.status.idle": "2025-10-25T12:32:55.909137Z",
     "shell.execute_reply": "2025-10-25T12:32:55.908337Z",
     "shell.execute_reply.started": "2025-10-25T12:32:55.566184Z"
    },
    "id": "qLowEOeg3HWW",
    "outputId": "2c3ac37f-a2ec-4a61-8373-70fd48d37233"
   },
   "outputs": [],
   "source": [
    "prefix_tuning_model = PrefixTuningForClassification(model_name = \"bert-base-uncased\", prefix_length = 5, data_manager = dm).to(device)"
   ]
  },
  {
   "cell_type": "code",
   "execution_count": 50,
   "metadata": {
    "execution": {
     "iopub.execute_input": "2025-10-25T12:32:55.910351Z",
     "iopub.status.busy": "2025-10-25T12:32:55.910065Z",
     "iopub.status.idle": "2025-10-25T12:49:37.883757Z",
     "shell.execute_reply": "2025-10-25T12:49:37.883104Z",
     "shell.execute_reply.started": "2025-10-25T12:32:55.910335Z"
    },
    "id": "UYMDOjWW3UVk"
   },
   "outputs": [
    {
     "name": "stdout",
     "output_type": "stream",
     "text": [
      "Epoch 1/100\n",
      "26/26 - train_loss: 1.7964 - train_accuracy: 22.2361%                 - val_loss: 0.9475 - val_accuracy: 22.7273%\n",
      "Epoch 2/100\n",
      "26/26 - train_loss: 1.7408 - train_accuracy: 23.9225%                 - val_loss: 0.9086 - val_accuracy: 25.2525%\n",
      "Epoch 3/100\n",
      "26/26 - train_loss: 1.6994 - train_accuracy: 25.0468%                 - val_loss: 0.8821 - val_accuracy: 26.2626%\n",
      "Epoch 4/100\n",
      "26/26 - train_loss: 1.6880 - train_accuracy: 26.1087%                 - val_loss: 0.8636 - val_accuracy: 25.7576%\n",
      "Epoch 5/100\n",
      "26/26 - train_loss: 1.6604 - train_accuracy: 26.0462%                 - val_loss: 0.8442 - val_accuracy: 28.2828%\n",
      "Epoch 6/100\n",
      "26/26 - train_loss: 1.6598 - train_accuracy: 25.6090%                 - val_loss: 0.8355 - val_accuracy: 25.7576%\n",
      "Epoch 7/100\n",
      "26/26 - train_loss: 1.6545 - train_accuracy: 26.3585%                 - val_loss: 0.8310 - val_accuracy: 28.2828%\n",
      "Epoch 8/100\n",
      "26/26 - train_loss: 1.6338 - train_accuracy: 29.6690%                 - val_loss: 0.8239 - val_accuracy: 28.7879%\n",
      "Epoch 9/100\n",
      "26/26 - train_loss: 1.6297 - train_accuracy: 27.7327%                 - val_loss: 0.8216 - val_accuracy: 29.7980%\n",
      "Epoch 10/100\n",
      "26/26 - train_loss: 1.6095 - train_accuracy: 29.6065%                 - val_loss: 0.8097 - val_accuracy: 31.3131%\n",
      "Epoch 11/100\n",
      "26/26 - train_loss: 1.6268 - train_accuracy: 32.6046%                 - val_loss: 0.8146 - val_accuracy: 31.3131%\n",
      "Epoch 12/100\n",
      "26/26 - train_loss: 1.6067 - train_accuracy: 32.3548%                 - val_loss: 0.8068 - val_accuracy: 32.8283%\n",
      "Epoch 13/100\n",
      "26/26 - train_loss: 1.6014 - train_accuracy: 37.5390%                 - val_loss: 0.7940 - val_accuracy: 34.3434%\n",
      "Epoch 14/100\n",
      "26/26 - train_loss: 1.5931 - train_accuracy: 36.0400%                 - val_loss: 0.8019 - val_accuracy: 31.8182%\n",
      "Epoch 15/100\n",
      "26/26 - train_loss: 1.5883 - train_accuracy: 35.6027%                 - val_loss: 0.8006 - val_accuracy: 35.3535%\n",
      "Epoch 16/100\n",
      "26/26 - train_loss: 1.5972 - train_accuracy: 33.3542%                 - val_loss: 0.8001 - val_accuracy: 33.8384%\n",
      "Epoch 17/100\n",
      "26/26 - train_loss: 1.5820 - train_accuracy: 35.7277%                 - val_loss: 0.7952 - val_accuracy: 36.3636%\n",
      "Epoch 18/100\n",
      "26/26 - train_loss: 1.5695 - train_accuracy: 38.4135%                 - val_loss: 0.7818 - val_accuracy: 36.8687%\n",
      "Epoch 19/100\n",
      "26/26 - train_loss: 1.5836 - train_accuracy: 39.0381%                 - val_loss: 0.7842 - val_accuracy: 40.9091%\n",
      "Epoch 20/100\n",
      "26/26 - train_loss: 1.5632 - train_accuracy: 38.6633%                 - val_loss: 0.7887 - val_accuracy: 38.8889%\n",
      "Epoch 21/100\n",
      "26/26 - train_loss: 1.5639 - train_accuracy: 36.2898%                 - val_loss: 0.7881 - val_accuracy: 35.3535%\n",
      "Epoch 22/100\n",
      "26/26 - train_loss: 1.5583 - train_accuracy: 36.2274%                 - val_loss: 0.7963 - val_accuracy: 34.8485%\n",
      "Epoch 23/100\n",
      "26/26 - train_loss: 1.5672 - train_accuracy: 35.9775%                 - val_loss: 0.7966 - val_accuracy: 34.8485%\n",
      "Epoch 24/100\n",
      "26/26 - train_loss: 1.5605 - train_accuracy: 36.7270%                 - val_loss: 0.7903 - val_accuracy: 35.8586%\n",
      "Epoch 25/100\n",
      "26/26 - train_loss: 1.5477 - train_accuracy: 39.1630%                 - val_loss: 0.7817 - val_accuracy: 39.8990%\n",
      "Epoch 26/100\n",
      "26/26 - train_loss: 1.5457 - train_accuracy: 43.6602%                 - val_loss: 0.7656 - val_accuracy: 39.3939%\n",
      "Epoch 27/100\n",
      "26/26 - train_loss: 1.5485 - train_accuracy: 42.8482%                 - val_loss: 0.7689 - val_accuracy: 42.4242%\n",
      "Epoch 28/100\n",
      "26/26 - train_loss: 1.5388 - train_accuracy: 42.5359%                 - val_loss: 0.7684 - val_accuracy: 43.9394%\n",
      "Epoch 29/100\n",
      "26/26 - train_loss: 1.5352 - train_accuracy: 45.0344%                 - val_loss: 0.7561 - val_accuracy: 42.9293%\n",
      "Epoch 30/100\n",
      "26/26 - train_loss: 1.5383 - train_accuracy: 44.7845%                 - val_loss: 0.7608 - val_accuracy: 43.9394%\n",
      "Epoch 31/100\n",
      "26/26 - train_loss: 1.5180 - train_accuracy: 43.4728%                 - val_loss: 0.7650 - val_accuracy: 44.9495%\n",
      "Epoch 32/100\n",
      "26/26 - train_loss: 1.5164 - train_accuracy: 42.8482%                 - val_loss: 0.7730 - val_accuracy: 42.9293%\n",
      "Epoch 33/100\n",
      "26/26 - train_loss: 1.5311 - train_accuracy: 40.8495%                 - val_loss: 0.7684 - val_accuracy: 40.9091%\n",
      "Epoch 34/100\n",
      "26/26 - train_loss: 1.5305 - train_accuracy: 43.9725%                 - val_loss: 0.7648 - val_accuracy: 45.9596%\n",
      "Epoch 35/100\n",
      "26/26 - train_loss: 1.5110 - train_accuracy: 45.4716%                 - val_loss: 0.7602 - val_accuracy: 47.9798%\n",
      "Epoch 36/100\n",
      "26/26 - train_loss: 1.4996 - train_accuracy: 46.4085%                 - val_loss: 0.7474 - val_accuracy: 45.4545%\n",
      "Epoch 37/100\n",
      "26/26 - train_loss: 1.5045 - train_accuracy: 47.0956%                 - val_loss: 0.7500 - val_accuracy: 46.9697%\n",
      "Epoch 38/100\n",
      "26/26 - train_loss: 1.5073 - train_accuracy: 45.7214%                 - val_loss: 0.7437 - val_accuracy: 44.9495%\n",
      "Epoch 39/100\n",
      "26/26 - train_loss: 1.5024 - train_accuracy: 48.4072%                 - val_loss: 0.7471 - val_accuracy: 48.4848%\n",
      "Epoch 40/100\n",
      "26/26 - train_loss: 1.4994 - train_accuracy: 49.4066%                 - val_loss: 0.7537 - val_accuracy: 52.5253%\n",
      "Epoch 41/100\n",
      "26/26 - train_loss: 1.5007 - train_accuracy: 45.9088%                 - val_loss: 0.7586 - val_accuracy: 46.9697%\n",
      "Epoch 42/100\n",
      "26/26 - train_loss: 1.5898 - train_accuracy: 48.1574%                 - val_loss: 0.7535 - val_accuracy: 51.5152%\n",
      "Epoch 43/100\n",
      "26/26 - train_loss: 1.5013 - train_accuracy: 47.6577%                 - val_loss: 0.7503 - val_accuracy: 52.0202%\n",
      "Epoch 44/100\n",
      "26/26 - train_loss: 1.4680 - train_accuracy: 50.9681%                 - val_loss: 0.7516 - val_accuracy: 54.5455%\n",
      "Epoch 45/100\n",
      "26/26 - train_loss: 1.4801 - train_accuracy: 49.9688%                 - val_loss: 0.7496 - val_accuracy: 50.5051%\n",
      "Epoch 46/100\n",
      "26/26 - train_loss: 1.4754 - train_accuracy: 49.2192%                 - val_loss: 0.7487 - val_accuracy: 51.5152%\n",
      "Epoch 47/100\n",
      "26/26 - train_loss: 1.4657 - train_accuracy: 46.9706%                 - val_loss: 0.7470 - val_accuracy: 50.0000%\n",
      "Epoch 48/100\n",
      "26/26 - train_loss: 1.4581 - train_accuracy: 46.6583%                 - val_loss: 0.7435 - val_accuracy: 48.9899%\n",
      "Epoch 49/100\n",
      "26/26 - train_loss: 1.4561 - train_accuracy: 49.9063%                 - val_loss: 0.7333 - val_accuracy: 51.5152%\n",
      "Epoch 50/100\n",
      "26/26 - train_loss: 1.4435 - train_accuracy: 51.6552%                 - val_loss: 0.7250 - val_accuracy: 50.5051%\n",
      "Epoch 51/100\n",
      "26/26 - train_loss: 1.4649 - train_accuracy: 51.0931%                 - val_loss: 0.7286 - val_accuracy: 52.0202%\n",
      "Epoch 52/100\n",
      "26/26 - train_loss: 1.4476 - train_accuracy: 50.2186%                 - val_loss: 0.7349 - val_accuracy: 51.0101%\n",
      "Epoch 53/100\n",
      "26/26 - train_loss: 1.4689 - train_accuracy: 48.5322%                 - val_loss: 0.7333 - val_accuracy: 52.0202%\n",
      "Epoch 54/100\n",
      "26/26 - train_loss: 1.4462 - train_accuracy: 50.9057%                 - val_loss: 0.7317 - val_accuracy: 54.0404%\n",
      "Epoch 55/100\n",
      "26/26 - train_loss: 1.4340 - train_accuracy: 53.9663%                 - val_loss: 0.7164 - val_accuracy: 54.5455%\n",
      "Epoch 56/100\n",
      "26/26 - train_loss: 1.4663 - train_accuracy: 53.4041%                 - val_loss: 0.7062 - val_accuracy: 53.5354%\n",
      "Epoch 57/100\n",
      "26/26 - train_loss: 1.4501 - train_accuracy: 51.4678%                 - val_loss: 0.7171 - val_accuracy: 54.5455%\n",
      "Epoch 58/100\n",
      "26/26 - train_loss: 1.4359 - train_accuracy: 54.4035%                 - val_loss: 0.7181 - val_accuracy: 59.5960%\n",
      "Epoch 59/100\n",
      "26/26 - train_loss: 1.4282 - train_accuracy: 53.4666%                 - val_loss: 0.7125 - val_accuracy: 57.5758%\n",
      "Epoch 60/100\n",
      "26/26 - train_loss: 1.4162 - train_accuracy: 57.2142%                 - val_loss: 0.7140 - val_accuracy: 60.1010%\n",
      "Epoch 61/100\n",
      "26/26 - train_loss: 1.4195 - train_accuracy: 55.7152%                 - val_loss: 0.7171 - val_accuracy: 57.5758%\n",
      "Epoch 62/100\n",
      "26/26 - train_loss: 1.4188 - train_accuracy: 54.0287%                 - val_loss: 0.7205 - val_accuracy: 54.5455%\n",
      "Epoch 63/100\n",
      "26/26 - train_loss: 1.4073 - train_accuracy: 54.4660%                 - val_loss: 0.7217 - val_accuracy: 57.5758%\n",
      "Epoch 64/100\n",
      "26/26 - train_loss: 1.4093 - train_accuracy: 55.1530%                 - val_loss: 0.7264 - val_accuracy: 58.5859%\n",
      "Epoch 65/100\n",
      "26/26 - train_loss: 1.3945 - train_accuracy: 52.0300%                 - val_loss: 0.7294 - val_accuracy: 57.0707%\n",
      "Epoch 66/100\n",
      "26/26 - train_loss: 1.4081 - train_accuracy: 51.7177%                 - val_loss: 0.7285 - val_accuracy: 56.5657%\n",
      "Epoch 67/100\n",
      "26/26 - train_loss: 1.4227 - train_accuracy: 51.6552%                 - val_loss: 0.7254 - val_accuracy: 56.5657%\n",
      "Epoch 68/100\n",
      "26/26 - train_loss: 1.3860 - train_accuracy: 55.9650%                 - val_loss: 0.7156 - val_accuracy: 59.0909%\n",
      "Epoch 69/100\n",
      "26/26 - train_loss: 1.3912 - train_accuracy: 54.7158%                 - val_loss: 0.7215 - val_accuracy: 58.5859%\n",
      "Epoch 70/100\n",
      "26/26 - train_loss: 1.3947 - train_accuracy: 56.1524%                 - val_loss: 0.7115 - val_accuracy: 61.1111%\n",
      "Epoch 71/100\n",
      "26/26 - train_loss: 1.3813 - train_accuracy: 57.5265%                 - val_loss: 0.7097 - val_accuracy: 58.0808%\n",
      "Epoch 72/100\n",
      "26/26 - train_loss: 1.3838 - train_accuracy: 56.7146%                 - val_loss: 0.7105 - val_accuracy: 59.0909%\n",
      "Epoch 73/100\n",
      "26/26 - train_loss: 1.3784 - train_accuracy: 56.1524%                 - val_loss: 0.7078 - val_accuracy: 58.0808%\n",
      "Epoch 74/100\n",
      "26/26 - train_loss: 1.3782 - train_accuracy: 54.7783%                 - val_loss: 0.7072 - val_accuracy: 56.0606%\n",
      "Epoch 75/100\n",
      "26/26 - train_loss: 1.3941 - train_accuracy: 55.4653%                 - val_loss: 0.7042 - val_accuracy: 56.5657%\n",
      "Epoch 76/100\n",
      "26/26 - train_loss: 1.3699 - train_accuracy: 58.5259%                 - val_loss: 0.6983 - val_accuracy: 61.6162%\n",
      "Epoch 77/100\n",
      "26/26 - train_loss: 1.3652 - train_accuracy: 60.3998%                 - val_loss: 0.6841 - val_accuracy: 61.1111%\n",
      "Epoch 78/100\n",
      "26/26 - train_loss: 1.3634 - train_accuracy: 58.2136%                 - val_loss: 0.6963 - val_accuracy: 63.1313%\n",
      "Epoch 79/100\n",
      "26/26 - train_loss: 1.3680 - train_accuracy: 57.0893%                 - val_loss: 0.6938 - val_accuracy: 60.1010%\n",
      "Epoch 80/100\n",
      "26/26 - train_loss: 1.3607 - train_accuracy: 60.2748%                 - val_loss: 0.6898 - val_accuracy: 62.6263%\n",
      "Epoch 81/100\n",
      "26/26 - train_loss: 1.3514 - train_accuracy: 59.9001%                 - val_loss: 0.6770 - val_accuracy: 62.6263%\n",
      "Epoch 82/100\n",
      "26/26 - train_loss: 1.3472 - train_accuracy: 58.7758%                 - val_loss: 0.6880 - val_accuracy: 63.1313%\n",
      "Epoch 83/100\n",
      "26/26 - train_loss: 1.3651 - train_accuracy: 57.5265%                 - val_loss: 0.6923 - val_accuracy: 61.6162%\n",
      "Epoch 84/100\n",
      "26/26 - train_loss: 1.3371 - train_accuracy: 59.0256%                 - val_loss: 0.6919 - val_accuracy: 59.5960%\n",
      "Epoch 85/100\n",
      "26/26 - train_loss: 1.3401 - train_accuracy: 57.7139%                 - val_loss: 0.6909 - val_accuracy: 60.1010%\n",
      "Epoch 86/100\n",
      "26/26 - train_loss: 1.3517 - train_accuracy: 58.4635%                 - val_loss: 0.6907 - val_accuracy: 59.5960%\n",
      "Epoch 87/100\n",
      "26/26 - train_loss: 1.3516 - train_accuracy: 59.3379%                 - val_loss: 0.6838 - val_accuracy: 59.5960%\n",
      "Epoch 88/100\n",
      "26/26 - train_loss: 1.3475 - train_accuracy: 60.7121%                 - val_loss: 0.6875 - val_accuracy: 59.5960%\n",
      "Epoch 89/100\n",
      "26/26 - train_loss: 1.3372 - train_accuracy: 59.4004%                 - val_loss: 0.6886 - val_accuracy: 63.6364%\n",
      "Epoch 90/100\n",
      "26/26 - train_loss: 1.3291 - train_accuracy: 60.5247%                 - val_loss: 0.6734 - val_accuracy: 64.6465%\n",
      "Epoch 91/100\n",
      "26/26 - train_loss: 1.3380 - train_accuracy: 59.7751%                 - val_loss: 0.6712 - val_accuracy: 64.6465%\n",
      "Epoch 92/100\n",
      "26/26 - train_loss: 1.3404 - train_accuracy: 63.0231%                 - val_loss: 0.6702 - val_accuracy: 64.6465%\n",
      "Epoch 93/100\n",
      "26/26 - train_loss: 1.3172 - train_accuracy: 62.8357%                 - val_loss: 0.6732 - val_accuracy: 66.1616%\n",
      "Epoch 94/100\n",
      "26/26 - train_loss: 1.3108 - train_accuracy: 62.0237%                 - val_loss: 0.6705 - val_accuracy: 67.1717%\n",
      "Epoch 95/100\n",
      "26/26 - train_loss: 1.3070 - train_accuracy: 62.8982%                 - val_loss: 0.6708 - val_accuracy: 66.1616%\n",
      "Epoch 96/100\n",
      "26/26 - train_loss: 1.3042 - train_accuracy: 62.4610%                 - val_loss: 0.6574 - val_accuracy: 64.1414%\n",
      "Epoch 97/100\n",
      "26/26 - train_loss: 1.3114 - train_accuracy: 61.2742%                 - val_loss: 0.6639 - val_accuracy: 64.6465%\n",
      "Epoch 98/100\n",
      "26/26 - train_loss: 1.2868 - train_accuracy: 61.9613%                 - val_loss: 0.6612 - val_accuracy: 68.1818%\n",
      "Epoch 99/100\n",
      "26/26 - train_loss: 1.2826 - train_accuracy: 62.7733%                 - val_loss: 0.6530 - val_accuracy: 66.1616%\n",
      "Epoch 100/100\n",
      "26/26 - train_loss: 1.2958 - train_accuracy: 63.2105%                 - val_loss: 0.6597 - val_accuracy: 67.1717%\n"
     ]
    }
   ],
   "source": [
    "if prefix_tuning_model.prefix_length is not None:\n",
    "  optimizer = torch.optim.Adam(list(prefix_tuning_model.classifier.parameters()) + [prefix_tuning_model.prefix_embeddings], lr=5e-5)\n",
    "else:\n",
    "  optimizer = torch.optim.Adam(prefix_tuning_model.classifier.parameters(), lr=1e-4)\n",
    "criterion = nn.CrossEntropyLoss()\n",
    "trainer = FineTunedBaseTrainer(model= prefix_tuning_model, criterion=criterion, optimizer=optimizer, train_loader=train_loader, val_loader=valid_loader)\n",
    "trainer.fit(num_epochs=100)"
   ]
  },
  {
   "cell_type": "markdown",
   "metadata": {
    "id": "xi6PnvdO-Glw"
   },
   "source": [
    "#### <font color=\"red\">**Question 4.3**</font>\n",
    "**For any models defined in the previous questions (of all parts), you are free to fine-tune hyperparameters, e.g., `optimizer`, `learning_rate`, `state_sizes`, such that you get a best model, i.e., the one with the highest accuracy on the test set. You will need to report (i) what is your best model,  (ii) its accuracy on the test set, and (iii) the values of its hyperparameters. Note that you must report your best model's accuracy with rounding to 4 decimal places, i.e., 0.xxxx. You will also need to upload your best model (or provide us with the link to download your best model). The assessment will be based on your best model's accuracy, with up to 10 marks available, specifically:**\n",
    "* The best accuracy $\\ge$ 0.97: 10 marks\n",
    "* 0.97 $>$ The best accuracy $\\ge$ 0.92: 7 marks\n",
    "* 0.92 $>$ The best accuracy $\\ge$ 0.85: 4 marks\n",
    "* The best accuracy $<$ 0.85: 0 mark\n",
    "\n",
    "**For this question, you can put below the code to train the best model. In this case, you need to show your code and the evidence of running regarding the best model. Moreover, if you save the best model, you need to provide the link to download the best model, the code to load the best model, and then evaluate on the test set.**\n",
    "<div style=\"text-align: right\"><font color=\"red\">[10 marks]</font></div>"
   ]
  },
  {
   "cell_type": "markdown",
   "metadata": {},
   "source": [
    "##### Import Packages"
   ]
  },
  {
   "cell_type": "code",
   "execution_count": 51,
   "metadata": {
    "execution": {
     "iopub.execute_input": "2025-10-25T12:49:37.884847Z",
     "iopub.status.busy": "2025-10-25T12:49:37.884532Z",
     "iopub.status.idle": "2025-10-25T12:49:37.888237Z",
     "shell.execute_reply": "2025-10-25T12:49:37.887691Z",
     "shell.execute_reply.started": "2025-10-25T12:49:37.884830Z"
    }
   },
   "outputs": [],
   "source": [
    "from transformers import AutoModel, AutoTokenizer, get_linear_schedule_with_warmup\n",
    "from tqdm import tqdm"
   ]
  },
  {
   "cell_type": "markdown",
   "metadata": {},
   "source": [
    "##### Define DistilBERT Classifier"
   ]
  },
  {
   "cell_type": "code",
   "execution_count": 52,
   "metadata": {
    "execution": {
     "iopub.execute_input": "2025-10-25T12:49:37.889127Z",
     "iopub.status.busy": "2025-10-25T12:49:37.888929Z",
     "iopub.status.idle": "2025-10-25T12:49:37.908641Z",
     "shell.execute_reply": "2025-10-25T12:49:37.908105Z",
     "shell.execute_reply.started": "2025-10-25T12:49:37.889112Z"
    }
   },
   "outputs": [],
   "source": [
    "class DistilBERTClassifier(nn.Module):\n",
    "    \"\"\"\n",
    "    Classifier using DistilBERT\n",
    "    \"\"\"\n",
    "    def __init__(self, model_name=\"distilbert-base-uncased\", num_classes=6, \n",
    "                 dropout_rate=0.3, hidden_dim=256):\n",
    "        super(DistilBERTClassifier, self).__init__()\n",
    "        \n",
    "        # Load DistilBERT\n",
    "        self.bert = AutoModel.from_pretrained(model_name)\n",
    "        self.hidden_size = self.bert.config.hidden_size\n",
    "        self.model_name = model_name\n",
    "        \n",
    "        # Freeze all layers\n",
    "        for param in self.bert.parameters():\n",
    "            param.requires_grad = False\n",
    "        \n",
    "        # Unfreeze last 2 transformer layers\n",
    "        for layer in self.bert.transformer.layer[-2:]:\n",
    "            for param in layer.parameters():\n",
    "                param.requires_grad = True\n",
    "        \n",
    "        # Compact classification head\n",
    "        self.classifier = nn.Sequential(\n",
    "            nn.Linear(self.hidden_size, hidden_dim),\n",
    "            nn.LayerNorm(hidden_dim),\n",
    "            nn.ReLU(),\n",
    "            nn.Dropout(dropout_rate),\n",
    "            nn.Linear(hidden_dim, num_classes)\n",
    "        )\n",
    "        \n",
    "    def forward(self, input_ids, attention_mask):\n",
    "        outputs = self.bert(input_ids=input_ids, attention_mask=attention_mask)\n",
    "        cls_output = outputs.last_hidden_state[:, 0, :]\n",
    "        logits = self.classifier(cls_output)\n",
    "        return logits\n",
    "    \n",
    "    def save_model(self, path):\n",
    "        \"\"\"\n",
    "        Save only fine-tuned layers\n",
    "        \"\"\"\n",
    "        os.makedirs(os.path.dirname(path), exist_ok=True)\n",
    "        \n",
    "        state_dict = {}\n",
    "        \n",
    "        # Save last 2 transformer layers\n",
    "        for i, layer in enumerate(self.bert.transformer.layer[-2:]):\n",
    "            state_dict[f'transformer_layer_{i}'] = layer.state_dict()\n",
    "        \n",
    "        # Save classification head\n",
    "        state_dict['classifier'] = self.classifier.state_dict()\n",
    "        \n",
    "        # Save metadata\n",
    "        state_dict['_metadata'] = {\n",
    "            'model_name': self.model_name,\n",
    "            'hidden_size': self.hidden_size,\n",
    "            'num_classes': len(self.classifier[-1].weight),\n",
    "            'hidden_dim': self.classifier[0].out_features,\n",
    "            'dropout_rate': self.classifier[3].p\n",
    "        }\n",
    "        \n",
    "        torch.save(state_dict, path)\n",
    "        \n",
    "        file_size_mb = os.path.getsize(path) / (1024 * 1024)\n",
    "        print(f\"✓ Model saved!\")\n",
    "        print(f\"  Path: {path}\")\n",
    "        print(f\"  Size: {file_size_mb:.2f} MB\")\n",
    "        \n",
    "    def load_best_model(self, path):\n",
    "        \"\"\"Load fine-tuned layers\"\"\"\n",
    "        state_dict = torch.load(path, map_location=device)\n",
    "        \n",
    "        # Load transformer layers\n",
    "        for i, layer in enumerate(self.bert.transformer.layer[-2:]):\n",
    "            layer.load_state_dict(state_dict[f'transformer_layer_{i}'])\n",
    "        \n",
    "        # Load classifier\n",
    "        self.classifier.load_state_dict(state_dict['classifier'])\n",
    "        \n",
    "        file_size_mb = os.path.getsize(path) / (1024 * 1024)\n",
    "        print(f\"✓ Model loaded! Size: {file_size_mb:.2f} MB\")"
   ]
  },
  {
   "cell_type": "markdown",
   "metadata": {},
   "source": [
    "##### Define My Trainer with Early Stopping"
   ]
  },
  {
   "cell_type": "code",
   "execution_count": 53,
   "metadata": {
    "execution": {
     "iopub.execute_input": "2025-10-25T12:49:37.909517Z",
     "iopub.status.busy": "2025-10-25T12:49:37.909323Z",
     "iopub.status.idle": "2025-10-25T12:49:37.925408Z",
     "shell.execute_reply": "2025-10-25T12:49:37.924706Z",
     "shell.execute_reply.started": "2025-10-25T12:49:37.909503Z"
    }
   },
   "outputs": [],
   "source": [
    "class MyTrainer:\n",
    "    def __init__(self, model, criterion, optimizer, scheduler, train_loader, \n",
    "                 val_loader, test_loader, patience=10, checkpoint_dir='.'):\n",
    "        self.model = model\n",
    "        self.criterion = criterion\n",
    "        self.optimizer = optimizer\n",
    "        self.scheduler = scheduler\n",
    "        self.train_loader = train_loader\n",
    "        self.val_loader = val_loader\n",
    "        self.test_loader = test_loader\n",
    "        self.patience = patience\n",
    "        self.checkpoint_dir = checkpoint_dir\n",
    "        \n",
    "        os.makedirs(checkpoint_dir, exist_ok=True)\n",
    "        \n",
    "        self.best_val_acc = 0.0\n",
    "        self.best_test_acc = 0.0\n",
    "        self.patience_counter = 0\n",
    "        self.best_epoch = 0\n",
    "        \n",
    "    def train_one_epoch(self):\n",
    "        self.model.train()\n",
    "        running_loss = 0.0\n",
    "        correct = 0\n",
    "        total = 0\n",
    "        \n",
    "        pbar = tqdm(self.train_loader, desc='Training')\n",
    "        for batch in pbar:\n",
    "            input_ids = batch[\"input_ids\"].to(device)\n",
    "            attention_mask = batch[\"attention_mask\"].to(device)\n",
    "            labels = batch[\"label\"].to(device)\n",
    "            \n",
    "            self.optimizer.zero_grad()\n",
    "            outputs = self.model(input_ids=input_ids, attention_mask=attention_mask)\n",
    "            loss = self.criterion(outputs, labels)\n",
    "            \n",
    "            loss.backward()\n",
    "            torch.nn.utils.clip_grad_norm_(self.model.parameters(), max_norm=1.0)\n",
    "            self.optimizer.step()\n",
    "            self.scheduler.step()\n",
    "            \n",
    "            running_loss += loss.item()\n",
    "            _, predicted = torch.max(outputs.data, 1)\n",
    "            total += labels.size(0)\n",
    "            correct += (predicted == labels).sum().item()\n",
    "            \n",
    "            pbar.set_postfix({'loss': f'{loss.item():.4f}', 'acc': f'{100. * correct / total:.2f}%'})\n",
    "        \n",
    "        return running_loss / len(self.train_loader), correct / total\n",
    "    \n",
    "    def evaluate(self, loader, desc='Evaluating'):\n",
    "        self.model.eval()\n",
    "        running_loss = 0.0\n",
    "        correct = 0\n",
    "        total = 0\n",
    "        \n",
    "        with torch.no_grad():\n",
    "            for batch in tqdm(loader, desc=desc, leave=False):\n",
    "                input_ids = batch[\"input_ids\"].to(device)\n",
    "                attention_mask = batch[\"attention_mask\"].to(device)\n",
    "                labels = batch[\"label\"].to(device)\n",
    "                \n",
    "                outputs = self.model(input_ids=input_ids, attention_mask=attention_mask)\n",
    "                loss = self.criterion(outputs, labels)\n",
    "                \n",
    "                running_loss += loss.item()\n",
    "                _, predicted = torch.max(outputs.data, 1)\n",
    "                total += labels.size(0)\n",
    "                correct += (predicted == labels).sum().item()\n",
    "        \n",
    "        return running_loss / len(loader), correct / total\n",
    "    \n",
    "    def fit(self, num_epochs):\n",
    "        print(f\"\\nTraining model for {num_epochs} epochs\")\n",
    "        print(\"=\" * 80)\n",
    "        \n",
    "        for epoch in range(num_epochs):\n",
    "            print(f'\\nEpoch {epoch + 1}/{num_epochs}')\n",
    "            print(\"-\" * 80)\n",
    "            \n",
    "            train_loss, train_acc = self.train_one_epoch()\n",
    "            val_loss, val_acc = self.evaluate(self.val_loader, 'Validation')\n",
    "            test_loss, test_acc = self.evaluate(self.test_loader, 'Testing')\n",
    "            \n",
    "            print(f'\\nTrain Loss: {train_loss:.4f} | Train Acc: {train_acc*100:.2f}%')\n",
    "            print(f'Val Loss: {val_loss:.4f} | Val Acc: {val_acc*100:.2f}%')\n",
    "            print(f'Test Loss: {test_loss:.4f} | Test Acc: {test_acc*100:.4f}%')\n",
    "            \n",
    "            if val_acc > self.best_val_acc:\n",
    "                self.best_val_acc = val_acc\n",
    "                self.best_test_acc = test_acc\n",
    "                self.best_epoch = epoch + 1\n",
    "                self.patience_counter = 0\n",
    "                \n",
    "                # Save model\n",
    "                checkpoint_path = os.path.join(self.checkpoint_dir, 'best_model.pt')\n",
    "                self.model.save_model(checkpoint_path)\n",
    "                \n",
    "                # Save metadata\n",
    "                metadata_path = os.path.join(self.checkpoint_dir, 'training_metadata.pt')\n",
    "                torch.save({\n",
    "                    'epoch': epoch,\n",
    "                    'val_accuracy': val_acc,\n",
    "                    'test_accuracy': test_acc,\n",
    "                }, metadata_path)\n",
    "                \n",
    "                print(f'✓ Best model saved! Val: {val_acc*100:.2f}%, Test: {test_acc*100:.4f}%')\n",
    "            else:\n",
    "                self.patience_counter += 1\n",
    "                print(f'No improvement for {self.patience_counter} epoch(s)')\n",
    "                \n",
    "                if self.patience_counter >= self.patience:\n",
    "                    print(f'\\nEarly stopping at epoch {epoch + 1}')\n",
    "                    break\n",
    "        \n",
    "        print(\"\\n\" + \"=\" * 80)\n",
    "        print(f'Best Model:')\n",
    "        print(f'  - Epoch: {self.best_epoch}')\n",
    "        print(f'  - Val Acc: {self.best_val_acc*100:.2f}%')\n",
    "        print(f'  - Test Acc: {self.best_test_acc:.4f}')\n",
    "        print(\"=\" * 80)\n",
    "        \n",
    "        return self.best_test_acc"
   ]
  },
  {
   "cell_type": "markdown",
   "metadata": {},
   "source": [
    "##### Data Preparation Function"
   ]
  },
  {
   "cell_type": "code",
   "execution_count": 54,
   "metadata": {
    "execution": {
     "iopub.execute_input": "2025-10-25T12:49:37.926544Z",
     "iopub.status.busy": "2025-10-25T12:49:37.926261Z",
     "iopub.status.idle": "2025-10-25T12:49:37.944011Z",
     "shell.execute_reply": "2025-10-25T12:49:37.943470Z",
     "shell.execute_reply.started": "2025-10-25T12:49:37.926530Z"
    }
   },
   "outputs": [],
   "source": [
    "def prepare_data(dm, model_name=\"distilbert-base-uncased\", max_length=48, batch_size=32):\n",
    "    tokenizer = AutoTokenizer.from_pretrained(model_name)\n",
    "    \n",
    "    dataset = Dataset.from_dict({\n",
    "        \"text\": dm.str_questions, \n",
    "        \"label\": dm.numeral_labels\n",
    "    })\n",
    "    \n",
    "    def tokenize_function(examples):\n",
    "        return tokenizer(\n",
    "            examples[\"text\"], \n",
    "            padding=\"max_length\", \n",
    "            truncation=True, \n",
    "            max_length=max_length\n",
    "        )\n",
    "    \n",
    "    dataset = dataset.map(tokenize_function, batched=True)\n",
    "    dataset.set_format(type=\"torch\", columns=[\"input_ids\", \"attention_mask\", \"label\"])\n",
    "    \n",
    "    num_samples = len(dataset)\n",
    "    train_size = int(num_samples * 0.8)\n",
    "    test_size = int(num_samples * 0.1)\n",
    "    val_size = num_samples - train_size - test_size\n",
    "    \n",
    "    train_set = Dataset.from_dict(dataset[:train_size])\n",
    "    train_set.set_format(type=\"torch\", columns=[\"input_ids\", \"attention_mask\", \"label\"])\n",
    "    \n",
    "    val_set = Dataset.from_dict(dataset[train_size:train_size+val_size])\n",
    "    val_set.set_format(type=\"torch\", columns=[\"input_ids\", \"attention_mask\", \"label\"])\n",
    "    \n",
    "    test_set = Dataset.from_dict(dataset[-test_size:])\n",
    "    test_set.set_format(type=\"torch\", columns=[\"input_ids\", \"attention_mask\", \"label\"])\n",
    "    \n",
    "    train_loader = DataLoader(train_set, batch_size=batch_size, shuffle=True)\n",
    "    val_loader = DataLoader(val_set, batch_size=batch_size, shuffle=False)\n",
    "    test_loader = DataLoader(test_set, batch_size=batch_size, shuffle=False)\n",
    "    \n",
    "    print(f\"Train: {len(train_set)} | Val: {len(val_set)} | Test: {len(test_set)}\")\n",
    "    \n",
    "    return train_loader, val_loader, test_loader"
   ]
  },
  {
   "cell_type": "markdown",
   "metadata": {},
   "source": [
    "##### Train the Best Model"
   ]
  },
  {
   "cell_type": "code",
   "execution_count": 55,
   "metadata": {
    "execution": {
     "iopub.execute_input": "2025-10-25T12:49:37.945134Z",
     "iopub.status.busy": "2025-10-25T12:49:37.944722Z",
     "iopub.status.idle": "2025-10-25T12:50:49.471236Z",
     "shell.execute_reply": "2025-10-25T12:50:49.470409Z",
     "shell.execute_reply.started": "2025-10-25T12:49:37.945118Z"
    }
   },
   "outputs": [
    {
     "name": "stdout",
     "output_type": "stream",
     "text": [
      "================================================================================\n",
      "TRAINING MODEL (DistilBERT)\n",
      "================================================================================\n",
      "\n",
      "Model: distilbert-base-uncased\n",
      "  - Size: ~66M parameters\n",
      "  - Layers: 6\n",
      "  - Expected file size: ~80MB\n",
      "\n",
      "Hyperparameters:\n",
      "  - LR: 3e-05\n",
      "  - Batch: 32\n",
      "  - Dropout: 0.3\n",
      "  - Checkpoint: .\n",
      "\n",
      "Preparing data...\n"
     ]
    },
    {
     "data": {
      "application/vnd.jupyter.widget-view+json": {
       "model_id": "af91c74943f846fb890128d0578c8bdd",
       "version_major": 2,
       "version_minor": 0
      },
      "text/plain": [
       "Map:   0%|          | 0/2000 [00:00<?, ? examples/s]"
      ]
     },
     "metadata": {},
     "output_type": "display_data"
    },
    {
     "name": "stdout",
     "output_type": "stream",
     "text": [
      "Train: 1600 | Val: 200 | Test: 200\n",
      "\n",
      "Initializing model...\n",
      "  Total params: 66,561,798\n",
      "  Trainable params: 14,374,662\n",
      "\n",
      "Training model for 50 epochs\n",
      "================================================================================\n",
      "\n",
      "Epoch 1/50\n",
      "--------------------------------------------------------------------------------\n"
     ]
    },
    {
     "name": "stderr",
     "output_type": "stream",
     "text": [
      "Training: 100%|██████████| 50/50 [00:04<00:00, 12.48it/s, loss=1.7048, acc=25.00%]\n",
      "                                                         \r"
     ]
    },
    {
     "name": "stdout",
     "output_type": "stream",
     "text": [
      "\n",
      "Train Loss: 1.7557 | Train Acc: 25.00%\n",
      "Val Loss: 1.5499 | Val Acc: 44.50%\n",
      "Test Loss: 1.5665 | Test Acc: 43.0000%\n",
      "✓ Model saved!\n",
      "  Path: ./best_model.pt\n",
      "  Size: 54.85 MB\n",
      "✓ Best model saved! Val: 44.50%, Test: 43.0000%\n",
      "\n",
      "Epoch 2/50\n",
      "--------------------------------------------------------------------------------\n"
     ]
    },
    {
     "name": "stderr",
     "output_type": "stream",
     "text": [
      "Training: 100%|██████████| 50/50 [00:04<00:00, 12.49it/s, loss=1.0458, acc=55.69%]\n",
      "                                                         \r"
     ]
    },
    {
     "name": "stdout",
     "output_type": "stream",
     "text": [
      "\n",
      "Train Loss: 1.3368 | Train Acc: 55.69%\n",
      "Val Loss: 0.8136 | Val Acc: 84.50%\n",
      "Test Loss: 0.8940 | Test Acc: 77.5000%\n",
      "✓ Model saved!\n",
      "  Path: ./best_model.pt\n",
      "  Size: 54.85 MB\n",
      "✓ Best model saved! Val: 84.50%, Test: 77.5000%\n",
      "\n",
      "Epoch 3/50\n",
      "--------------------------------------------------------------------------------\n"
     ]
    },
    {
     "name": "stderr",
     "output_type": "stream",
     "text": [
      "Training: 100%|██████████| 50/50 [00:04<00:00, 12.44it/s, loss=0.3118, acc=86.81%]\n",
      "                                                         \r"
     ]
    },
    {
     "name": "stdout",
     "output_type": "stream",
     "text": [
      "\n",
      "Train Loss: 0.6255 | Train Acc: 86.81%\n",
      "Val Loss: 0.2687 | Val Acc: 95.50%\n",
      "Test Loss: 0.2940 | Test Acc: 96.5000%\n",
      "✓ Model saved!\n",
      "  Path: ./best_model.pt\n",
      "  Size: 54.85 MB\n",
      "✓ Best model saved! Val: 95.50%, Test: 96.5000%\n",
      "\n",
      "Epoch 4/50\n",
      "--------------------------------------------------------------------------------\n"
     ]
    },
    {
     "name": "stderr",
     "output_type": "stream",
     "text": [
      "Training: 100%|██████████| 50/50 [00:04<00:00, 12.40it/s, loss=0.1330, acc=95.81%]\n",
      "                                                         \r"
     ]
    },
    {
     "name": "stdout",
     "output_type": "stream",
     "text": [
      "\n",
      "Train Loss: 0.2300 | Train Acc: 95.81%\n",
      "Val Loss: 0.0908 | Val Acc: 99.00%\n",
      "Test Loss: 0.0918 | Test Acc: 98.5000%\n",
      "✓ Model saved!\n",
      "  Path: ./best_model.pt\n",
      "  Size: 54.85 MB\n",
      "✓ Best model saved! Val: 99.00%, Test: 98.5000%\n",
      "\n",
      "Epoch 5/50\n",
      "--------------------------------------------------------------------------------\n"
     ]
    },
    {
     "name": "stderr",
     "output_type": "stream",
     "text": [
      "Training: 100%|██████████| 50/50 [00:04<00:00, 12.41it/s, loss=0.1305, acc=98.44%]\n",
      "                                                         \r"
     ]
    },
    {
     "name": "stdout",
     "output_type": "stream",
     "text": [
      "\n",
      "Train Loss: 0.0977 | Train Acc: 98.44%\n",
      "Val Loss: 0.0420 | Val Acc: 100.00%\n",
      "Test Loss: 0.0414 | Test Acc: 99.5000%\n",
      "✓ Model saved!\n",
      "  Path: ./best_model.pt\n",
      "  Size: 54.85 MB\n",
      "✓ Best model saved! Val: 100.00%, Test: 99.5000%\n",
      "\n",
      "Epoch 6/50\n",
      "--------------------------------------------------------------------------------\n"
     ]
    },
    {
     "name": "stderr",
     "output_type": "stream",
     "text": [
      "Training: 100%|██████████| 50/50 [00:04<00:00, 12.39it/s, loss=0.0414, acc=99.12%]\n",
      "                                                         \r"
     ]
    },
    {
     "name": "stdout",
     "output_type": "stream",
     "text": [
      "\n",
      "Train Loss: 0.0577 | Train Acc: 99.12%\n",
      "Val Loss: 0.0266 | Val Acc: 100.00%\n",
      "Test Loss: 0.0318 | Test Acc: 99.0000%\n",
      "No improvement for 1 epoch(s)\n",
      "\n",
      "Epoch 7/50\n",
      "--------------------------------------------------------------------------------\n"
     ]
    },
    {
     "name": "stderr",
     "output_type": "stream",
     "text": [
      "Training: 100%|██████████| 50/50 [00:04<00:00, 12.31it/s, loss=0.0909, acc=99.75%]\n",
      "                                                         \r"
     ]
    },
    {
     "name": "stdout",
     "output_type": "stream",
     "text": [
      "\n",
      "Train Loss: 0.0313 | Train Acc: 99.75%\n",
      "Val Loss: 0.0253 | Val Acc: 99.00%\n",
      "Test Loss: 0.0349 | Test Acc: 99.0000%\n",
      "No improvement for 2 epoch(s)\n",
      "\n",
      "Epoch 8/50\n",
      "--------------------------------------------------------------------------------\n"
     ]
    },
    {
     "name": "stderr",
     "output_type": "stream",
     "text": [
      "Training: 100%|██████████| 50/50 [00:04<00:00, 12.36it/s, loss=0.0168, acc=99.88%] \n",
      "                                                         \r"
     ]
    },
    {
     "name": "stdout",
     "output_type": "stream",
     "text": [
      "\n",
      "Train Loss: 0.0221 | Train Acc: 99.88%\n",
      "Val Loss: 0.0190 | Val Acc: 99.50%\n",
      "Test Loss: 0.0276 | Test Acc: 99.5000%\n",
      "No improvement for 3 epoch(s)\n",
      "\n",
      "Epoch 9/50\n",
      "--------------------------------------------------------------------------------\n"
     ]
    },
    {
     "name": "stderr",
     "output_type": "stream",
     "text": [
      "Training: 100%|██████████| 50/50 [00:04<00:00, 12.35it/s, loss=0.0115, acc=100.00%]\n",
      "                                                         \r"
     ]
    },
    {
     "name": "stdout",
     "output_type": "stream",
     "text": [
      "\n",
      "Train Loss: 0.0163 | Train Acc: 100.00%\n",
      "Val Loss: 0.0158 | Val Acc: 100.00%\n",
      "Test Loss: 0.0202 | Test Acc: 99.5000%\n",
      "No improvement for 4 epoch(s)\n",
      "\n",
      "Epoch 10/50\n",
      "--------------------------------------------------------------------------------\n"
     ]
    },
    {
     "name": "stderr",
     "output_type": "stream",
     "text": [
      "Training: 100%|██████████| 50/50 [00:04<00:00, 12.34it/s, loss=0.0127, acc=100.00%]\n",
      "                                                         \r"
     ]
    },
    {
     "name": "stdout",
     "output_type": "stream",
     "text": [
      "\n",
      "Train Loss: 0.0138 | Train Acc: 100.00%\n",
      "Val Loss: 0.0171 | Val Acc: 99.50%\n",
      "Test Loss: 0.0266 | Test Acc: 99.5000%\n",
      "No improvement for 5 epoch(s)\n",
      "\n",
      "Epoch 11/50\n",
      "--------------------------------------------------------------------------------\n"
     ]
    },
    {
     "name": "stderr",
     "output_type": "stream",
     "text": [
      "Training: 100%|██████████| 50/50 [00:04<00:00, 12.33it/s, loss=0.0093, acc=100.00%]\n",
      "                                                         \r"
     ]
    },
    {
     "name": "stdout",
     "output_type": "stream",
     "text": [
      "\n",
      "Train Loss: 0.0124 | Train Acc: 100.00%\n",
      "Val Loss: 0.0109 | Val Acc: 100.00%\n",
      "Test Loss: 0.0227 | Test Acc: 99.5000%\n",
      "No improvement for 6 epoch(s)\n",
      "\n",
      "Epoch 12/50\n",
      "--------------------------------------------------------------------------------\n"
     ]
    },
    {
     "name": "stderr",
     "output_type": "stream",
     "text": [
      "Training: 100%|██████████| 50/50 [00:04<00:00, 12.33it/s, loss=0.0101, acc=100.00%]\n",
      "                                                         \r"
     ]
    },
    {
     "name": "stdout",
     "output_type": "stream",
     "text": [
      "\n",
      "Train Loss: 0.0104 | Train Acc: 100.00%\n",
      "Val Loss: 0.0089 | Val Acc: 100.00%\n",
      "Test Loss: 0.0222 | Test Acc: 99.5000%\n",
      "No improvement for 7 epoch(s)\n",
      "\n",
      "Epoch 13/50\n",
      "--------------------------------------------------------------------------------\n"
     ]
    },
    {
     "name": "stderr",
     "output_type": "stream",
     "text": [
      "Training: 100%|██████████| 50/50 [00:04<00:00, 12.36it/s, loss=0.0085, acc=100.00%]\n",
      "                                                         \r"
     ]
    },
    {
     "name": "stdout",
     "output_type": "stream",
     "text": [
      "\n",
      "Train Loss: 0.0096 | Train Acc: 100.00%\n",
      "Val Loss: 0.0232 | Val Acc: 99.00%\n",
      "Test Loss: 0.0319 | Test Acc: 99.5000%\n",
      "No improvement for 8 epoch(s)\n",
      "\n",
      "Epoch 14/50\n",
      "--------------------------------------------------------------------------------\n"
     ]
    },
    {
     "name": "stderr",
     "output_type": "stream",
     "text": [
      "Training: 100%|██████████| 50/50 [00:04<00:00, 12.35it/s, loss=0.0104, acc=100.00%]\n",
      "                                                         \r"
     ]
    },
    {
     "name": "stdout",
     "output_type": "stream",
     "text": [
      "\n",
      "Train Loss: 0.0088 | Train Acc: 100.00%\n",
      "Val Loss: 0.0083 | Val Acc: 100.00%\n",
      "Test Loss: 0.0242 | Test Acc: 99.5000%\n",
      "No improvement for 9 epoch(s)\n",
      "\n",
      "Epoch 15/50\n",
      "--------------------------------------------------------------------------------\n"
     ]
    },
    {
     "name": "stderr",
     "output_type": "stream",
     "text": [
      "Training: 100%|██████████| 50/50 [00:04<00:00, 12.38it/s, loss=0.0073, acc=100.00%]\n",
      "                                                         "
     ]
    },
    {
     "name": "stdout",
     "output_type": "stream",
     "text": [
      "\n",
      "Train Loss: 0.0082 | Train Acc: 100.00%\n",
      "Val Loss: 0.0173 | Val Acc: 99.00%\n",
      "Test Loss: 0.0268 | Test Acc: 99.5000%\n",
      "No improvement for 10 epoch(s)\n",
      "\n",
      "Early stopping at epoch 15\n",
      "\n",
      "================================================================================\n",
      "Best Model:\n",
      "  - Epoch: 5\n",
      "  - Val Acc: 100.00%\n",
      "  - Test Acc: 0.9950\n",
      "================================================================================\n",
      "\n",
      "✓ Training completed!\n",
      "✓ Best test accuracy: 0.9950\n",
      "✓ Model saved to: ./best_model.pt\n"
     ]
    },
    {
     "name": "stderr",
     "output_type": "stream",
     "text": [
      "\r"
     ]
    }
   ],
   "source": [
    "# Hyperparameters\n",
    "MODEL_NAME = \"distilbert-base-uncased\"\n",
    "LEARNING_RATE = 3e-5\n",
    "BATCH_SIZE = 32\n",
    "NUM_EPOCHS = 50\n",
    "DROPOUT = 0.3\n",
    "HIDDEN_DIM = 256\n",
    "WEIGHT_DECAY = 0.01\n",
    "WARMUP_RATIO = 0.1\n",
    "MAX_LENGTH = 48\n",
    "CHECKPOINT_DIR = '.'  # Save in current directory\n",
    "\n",
    "print(\"=\" * 80)\n",
    "print(\"TRAINING MODEL (DistilBERT)\")\n",
    "print(\"=\" * 80)\n",
    "print(f\"\\nModel: {MODEL_NAME}\")\n",
    "print(f\"  - Size: ~66M parameters\")\n",
    "print(f\"  - Layers: 6\")\n",
    "print(f\"  - Expected file size: ~80MB\")\n",
    "\n",
    "print(f\"\\nHyperparameters:\")\n",
    "print(f\"  - LR: {LEARNING_RATE}\")\n",
    "print(f\"  - Batch: {BATCH_SIZE}\")\n",
    "print(f\"  - Dropout: {DROPOUT}\")\n",
    "print(f\"  - Checkpoint: {CHECKPOINT_DIR}\")\n",
    "\n",
    "# Prepare data\n",
    "print(\"\\nPreparing data...\")\n",
    "train_loader, val_loader, test_loader = prepare_data(dm, MODEL_NAME, MAX_LENGTH, BATCH_SIZE)\n",
    "\n",
    "# Initialize model\n",
    "print(\"\\nInitializing model...\")\n",
    "model = DistilBERTClassifier(\n",
    "    model_name=MODEL_NAME,\n",
    "    num_classes=dm.num_classes,\n",
    "    dropout_rate=DROPOUT,\n",
    "    hidden_dim=HIDDEN_DIM\n",
    ").to(device)\n",
    "\n",
    "total_params = sum(p.numel() for p in model.parameters())\n",
    "trainable_params = sum(p.numel() for p in model.parameters() if p.requires_grad)\n",
    "print(f\"  Total params: {total_params:,}\")\n",
    "print(f\"  Trainable params: {trainable_params:,}\")\n",
    "\n",
    "# Optimizer and scheduler\n",
    "criterion = nn.CrossEntropyLoss()\n",
    "optimizer = torch.optim.AdamW(model.parameters(), lr=LEARNING_RATE, weight_decay=WEIGHT_DECAY)\n",
    "\n",
    "num_training_steps = len(train_loader) * NUM_EPOCHS\n",
    "num_warmup_steps = int(num_training_steps * WARMUP_RATIO)\n",
    "scheduler = get_linear_schedule_with_warmup(\n",
    "    optimizer, num_warmup_steps=num_warmup_steps, num_training_steps=num_training_steps\n",
    ")\n",
    "\n",
    "# Train\n",
    "trainer = MyTrainer(\n",
    "    model=model,\n",
    "    criterion=criterion,\n",
    "    optimizer=optimizer,\n",
    "    scheduler=scheduler,\n",
    "    train_loader=train_loader,\n",
    "    val_loader=val_loader,\n",
    "    test_loader=test_loader,\n",
    "    patience=10,\n",
    "    checkpoint_dir=CHECKPOINT_DIR\n",
    ")\n",
    "\n",
    "best_test_acc = trainer.fit(NUM_EPOCHS)\n",
    "\n",
    "print(f\"\\n✓ Training completed!\")\n",
    "print(f\"✓ Best test accuracy: {best_test_acc:.4f}\")\n",
    "print(f\"✓ Model saved to: {CHECKPOINT_DIR}/best_model.pt\")"
   ]
  },
  {
   "cell_type": "markdown",
   "metadata": {},
   "source": [
    "##### Test the best model"
   ]
  },
  {
   "cell_type": "code",
   "execution_count": null,
   "metadata": {
    "execution": {
     "iopub.execute_input": "2025-10-25T12:50:49.472352Z",
     "iopub.status.busy": "2025-10-25T12:50:49.472135Z",
     "iopub.status.idle": "2025-10-25T12:50:50.400241Z",
     "shell.execute_reply": "2025-10-25T12:50:50.399619Z",
     "shell.execute_reply.started": "2025-10-25T12:50:49.472336Z"
    }
   },
   "outputs": [
    {
     "name": "stdout",
     "output_type": "stream",
     "text": [
      "\n",
      "================================================================================\n",
      "LOADING MODEL\n",
      "================================================================================\n",
      "✓ Model loaded! Size: 54.85 MB\n",
      "  Epoch: 5\n",
      "  Val Acc: 100.00%\n",
      "  Test Acc: 0.9950\n"
     ]
    },
    {
     "data": {
      "application/vnd.jupyter.widget-view+json": {
       "model_id": "027820e317e442d7b0cac8ea4bc45f6d",
       "version_major": 2,
       "version_minor": 0
      },
      "text/plain": [
       "Map:   0%|          | 0/2000 [00:00<?, ? examples/s]"
      ]
     },
     "metadata": {},
     "output_type": "display_data"
    },
    {
     "name": "stdout",
     "output_type": "stream",
     "text": [
      "Train: 1600 | Val: 200 | Test: 200\n",
      "\n",
      "Evaluating...\n"
     ]
    },
    {
     "name": "stderr",
     "output_type": "stream",
     "text": [
      "Testing:  43%|████▎     | 3/7 [00:00<00:00, 23.03it/s]"
     ]
    },
    {
     "name": "stdout",
     "output_type": "stream",
     "text": [
      "predicted:  tensor([3, 4, 3, 5, 4, 3, 2, 3, 2, 2, 5, 5, 1, 4, 1, 1, 4, 1, 2, 1, 5, 3, 5, 2,\n",
      "        3, 5, 3, 4, 4, 5, 3, 2], device='cuda:0') labels:  tensor([3, 4, 3, 5, 4, 3, 2, 3, 2, 2, 5, 5, 1, 4, 1, 1, 4, 1, 2, 1, 5, 3, 5, 2,\n",
      "        3, 5, 3, 4, 4, 5, 3, 2], device='cuda:0')\n",
      "predicted:  tensor([3, 3, 2, 4, 4, 5, 1, 2, 4, 5, 2, 4, 4, 3, 3, 5, 1, 2, 4, 1, 1, 2, 1, 5,\n",
      "        3, 2, 2, 5, 1, 3, 3, 1], device='cuda:0') labels:  tensor([3, 3, 2, 4, 4, 5, 1, 2, 4, 5, 2, 4, 4, 3, 3, 5, 1, 2, 4, 1, 1, 2, 1, 5,\n",
      "        3, 2, 2, 5, 1, 3, 3, 1], device='cuda:0')\n",
      "predicted:  tensor([2, 5, 4, 4, 4, 4, 2, 3, 4, 2, 1, 3, 2, 3, 4, 5, 1, 5, 2, 1, 4, 0, 3, 3,\n",
      "        2, 4, 1, 2, 1, 2, 5, 3], device='cuda:0') labels:  tensor([2, 5, 4, 4, 4, 4, 2, 3, 4, 2, 1, 3, 2, 3, 4, 5, 1, 5, 2, 1, 2, 0, 3, 3,\n",
      "        2, 4, 1, 2, 1, 2, 5, 3], device='cuda:0')\n",
      "predicted:  tensor([2, 2, 4, 4, 1, 3, 1, 1, 1, 2, 1, 2, 2, 3, 3, 1, 5, 1, 3, 4, 1, 1, 3, 4,\n",
      "        1, 1, 1, 3, 3, 1, 3, 2], device='cuda:0') labels:  tensor([2, 2, 4, 4, 1, 3, 1, 1, 1, 2, 1, 2, 2, 3, 3, 1, 5, 1, 3, 4, 1, 1, 3, 4,\n",
      "        1, 1, 1, 3, 3, 1, 3, 2], device='cuda:0')\n",
      "predicted:  "
     ]
    },
    {
     "name": "stderr",
     "output_type": "stream",
     "text": [
      "Testing: 100%|██████████| 7/7 [00:00<00:00, 23.38it/s]"
     ]
    },
    {
     "name": "stdout",
     "output_type": "stream",
     "text": [
      "tensor([5, 2, 1, 1, 4, 2, 4, 3, 4, 2, 2, 1, 2, 2, 2, 1, 5, 3, 5, 1, 2, 1, 2, 4,\n",
      "        4, 1, 1, 1, 1, 3, 1, 4], device='cuda:0') labels:  tensor([5, 2, 1, 1, 4, 2, 4, 3, 4, 2, 2, 1, 2, 2, 2, 1, 5, 3, 5, 1, 2, 1, 2, 4,\n",
      "        4, 1, 1, 1, 1, 3, 1, 4], device='cuda:0')\n",
      "predicted:  tensor([5, 1, 2, 5, 1, 2, 2, 3, 1, 1, 2, 4, 1, 5, 2, 2, 2, 2, 4, 5, 2, 3, 2, 1,\n",
      "        0, 2, 5, 0, 1, 2, 4, 2], device='cuda:0') labels:  tensor([5, 1, 2, 5, 1, 2, 2, 3, 1, 1, 2, 4, 1, 5, 2, 2, 2, 2, 4, 5, 2, 3, 2, 1,\n",
      "        0, 2, 5, 0, 1, 2, 4, 2], device='cuda:0')\n",
      "predicted:  tensor([5, 3, 2, 1, 5, 2, 4, 1], device='cuda:0') labels:  tensor([5, 3, 2, 1, 5, 2, 4, 1], device='cuda:0')\n",
      "\n",
      "================================================================================\n",
      "Final Test Accuracy: 0.9950 (99.50%)\n",
      "================================================================================\n"
     ]
    },
    {
     "name": "stderr",
     "output_type": "stream",
     "text": [
      "\n"
     ]
    }
   ],
   "source": [
    "def load_and_evaluate(dm, checkpoint_path='./best_model.pt'):\n",
    "    print(\"\\n\" + \"=\" * 80)\n",
    "    print(\"LOADING MODEL\")\n",
    "    print(\"=\" * 80)\n",
    "    \n",
    "    # Initialize model\n",
    "    model = DistilBERTClassifier(\n",
    "        model_name=\"distilbert-base-uncased\",\n",
    "        num_classes=dm.num_classes,\n",
    "        dropout_rate=0.3,\n",
    "        hidden_dim=256\n",
    "    ).to(device)\n",
    "    \n",
    "    # Load checkpoint\n",
    "    model.load_best_model(checkpoint_path)\n",
    "    \n",
    "    # Load metadata\n",
    "    metadata_path = os.path.join(os.path.dirname(checkpoint_path), 'training_metadata.pt')\n",
    "    if os.path.exists(metadata_path):\n",
    "        metadata = torch.load(metadata_path, map_location=device)\n",
    "        print(f\"  Epoch: {metadata['epoch'] + 1}\")\n",
    "        print(f\"  Val Acc: {metadata['val_accuracy']*100:.2f}%\")\n",
    "        print(f\"  Test Acc: {metadata['test_accuracy']:.4f}\")\n",
    "    \n",
    "    # Evaluate\n",
    "    _, _, test_loader = prepare_data(dm, \"distilbert-base-uncased\", 48, 32)\n",
    "    \n",
    "    model.eval()\n",
    "    correct = 0\n",
    "    total = 0\n",
    "    \n",
    "    print(\"\\nEvaluating...\")\n",
    "    with torch.no_grad():\n",
    "        for batch in tqdm(test_loader, desc='Testing'):\n",
    "            input_ids = batch[\"input_ids\"].to(device)\n",
    "            attention_mask = batch[\"attention_mask\"].to(device)\n",
    "            labels = batch[\"label\"].to(device)\n",
    "            \n",
    "            outputs = model(input_ids=input_ids, attention_mask=attention_mask)\n",
    "            _, predicted = torch.max(outputs.data, 1)\n",
    "            total += labels.size(0)\n",
    "            # print('predicted: ',predicted, 'labels: ',labels)\n",
    "            correct += (predicted == labels).sum().item()\n",
    "    \n",
    "    test_acc = correct / total\n",
    "    print(f\"\\n\" + \"=\" * 80)\n",
    "    print(f\"Final Test Accuracy: {test_acc:.4f} ({test_acc*100:.2f}%)\")\n",
    "    print(\"=\" * 80)\n",
    "    \n",
    "    return model, test_acc\n",
    "\n",
    "# Load and evaluate\n",
    "best_model, final_acc = load_and_evaluate(dm)"
   ]
  },
  {
   "cell_type": "markdown",
   "metadata": {},
   "source": [
    "##### (i) What is your best model?"
   ]
  },
  {
   "cell_type": "markdown",
   "metadata": {},
   "source": [
    "Fine-tuned DistilBERT (distilbert-base-uncased) with multi-layer classification head. \n",
    "\n",
    "DistilBERT is a knowledge-distilled version of BERT with 40% fewer parameters (66M vs 110M), achieving 97% of BERT's performance while being 60% faster."
   ]
  },
  {
   "cell_type": "markdown",
   "metadata": {},
   "source": [
    "##### (ii) The accuracy of your best model on the test set"
   ]
  },
  {
   "cell_type": "markdown",
   "metadata": {},
   "source": [
    "Best model Test Accuracy: **0.9950**\n"
   ]
  },
  {
   "cell_type": "markdown",
   "metadata": {},
   "source": [
    "##### (iii) The values of the hyperparameters of your best model"
   ]
  },
  {
   "cell_type": "markdown",
   "metadata": {},
   "source": [
    "Hyperparameters:\n",
    "- Base: distilbert-base-uncased (66M params, 6 layers)\n",
    "- Learning Rate: 3e-5\n",
    "- Batch Size: 32\n",
    "- Dropout: 0.3\n",
    "- Hidden Dim: 256\n",
    "- Weight Decay: 0.01\n",
    "- Warmup: 10%\n",
    "- Max Length: 48\n",
    "- Optimizer: AdamW\n",
    "- Scheduler: Linear with warmup\n",
    "- Fine-tuning: Last 2 layers + classifier\n",
    "- Early Stopping: Patience 10"
   ]
  },
  {
   "cell_type": "markdown",
   "metadata": {},
   "source": [
    "##### (iv) The link to download your best model"
   ]
  },
  {
   "cell_type": "markdown",
   "metadata": {},
   "source": [
    "best_model.pt\n",
    "\n",
    "https://drive.google.com/file/d/1DpoSLD-UiuJCPD6tIGnts3CLzkg360CF/view?usp=sharing\n",
    "\n",
    "training_metadata.pt\n",
    "\n",
    "https://drive.google.com/file/d/1VvtVN-oVSN4hRFtbE82Y41DdAYucSkj1/view?usp=sharing"
   ]
  },
  {
   "cell_type": "markdown",
   "metadata": {
    "id": "evYeSuXm-OkM"
   },
   "source": [
    "---\n",
    "<div style=\"text-align: center\"> <font color=\"green\">GOOD LUCK WITH YOUR ASSIGNMENT 2!</font> </div>\n",
    "<div style=\"text-align: center\"> <font color=\"black\">END OF ASSIGNMENT</font> </div>"
   ]
  }
 ],
 "metadata": {
  "accelerator": "GPU",
  "colab": {
   "gpuType": "T4",
   "provenance": []
  },
  "kaggle": {
   "accelerator": "nvidiaTeslaT4",
   "dataSources": [],
   "dockerImageVersionId": 31154,
   "isGpuEnabled": true,
   "isInternetEnabled": true,
   "language": "python",
   "sourceType": "notebook"
  },
  "kernelspec": {
   "display_name": "Python 3 (ipykernel)",
   "language": "python",
   "name": "python3"
  },
  "language_info": {
   "codemirror_mode": {
    "name": "ipython",
    "version": 3
   },
   "file_extension": ".py",
   "mimetype": "text/x-python",
   "name": "python",
   "nbconvert_exporter": "python",
   "pygments_lexer": "ipython3",
   "version": "3.10.9"
  },
  "widgets": {
   "application/vnd.jupyter.widget-state+json": {
    "0b93f82459a947fdbfe51344084430e0": {
     "model_module": "@jupyter-widgets/base",
     "model_module_version": "1.2.0",
     "model_name": "LayoutModel",
     "state": {
      "_model_module": "@jupyter-widgets/base",
      "_model_module_version": "1.2.0",
      "_model_name": "LayoutModel",
      "_view_count": null,
      "_view_module": "@jupyter-widgets/base",
      "_view_module_version": "1.2.0",
      "_view_name": "LayoutView",
      "align_content": null,
      "align_items": null,
      "align_self": null,
      "border": null,
      "bottom": null,
      "display": null,
      "flex": null,
      "flex_flow": null,
      "grid_area": null,
      "grid_auto_columns": null,
      "grid_auto_flow": null,
      "grid_auto_rows": null,
      "grid_column": null,
      "grid_gap": null,
      "grid_row": null,
      "grid_template_areas": null,
      "grid_template_columns": null,
      "grid_template_rows": null,
      "height": null,
      "justify_content": null,
      "justify_items": null,
      "left": null,
      "margin": null,
      "max_height": null,
      "max_width": null,
      "min_height": null,
      "min_width": null,
      "object_fit": null,
      "object_position": null,
      "order": null,
      "overflow": null,
      "overflow_x": null,
      "overflow_y": null,
      "padding": null,
      "right": null,
      "top": null,
      "visibility": null,
      "width": null
     }
    },
    "0bb982e0a7b04448a2cd3d004d4cb15c": {
     "model_module": "@jupyter-widgets/controls",
     "model_module_version": "1.5.0",
     "model_name": "DescriptionStyleModel",
     "state": {
      "_model_module": "@jupyter-widgets/controls",
      "_model_module_version": "1.5.0",
      "_model_name": "DescriptionStyleModel",
      "_view_count": null,
      "_view_module": "@jupyter-widgets/base",
      "_view_module_version": "1.2.0",
      "_view_name": "StyleView",
      "description_width": ""
     }
    },
    "17bb0346995d4dfd85685c3fadaccfa3": {
     "model_module": "@jupyter-widgets/base",
     "model_module_version": "1.2.0",
     "model_name": "LayoutModel",
     "state": {
      "_model_module": "@jupyter-widgets/base",
      "_model_module_version": "1.2.0",
      "_model_name": "LayoutModel",
      "_view_count": null,
      "_view_module": "@jupyter-widgets/base",
      "_view_module_version": "1.2.0",
      "_view_name": "LayoutView",
      "align_content": null,
      "align_items": null,
      "align_self": null,
      "border": null,
      "bottom": null,
      "display": null,
      "flex": null,
      "flex_flow": null,
      "grid_area": null,
      "grid_auto_columns": null,
      "grid_auto_flow": null,
      "grid_auto_rows": null,
      "grid_column": null,
      "grid_gap": null,
      "grid_row": null,
      "grid_template_areas": null,
      "grid_template_columns": null,
      "grid_template_rows": null,
      "height": null,
      "justify_content": null,
      "justify_items": null,
      "left": null,
      "margin": null,
      "max_height": null,
      "max_width": null,
      "min_height": null,
      "min_width": null,
      "object_fit": null,
      "object_position": null,
      "order": null,
      "overflow": null,
      "overflow_x": null,
      "overflow_y": null,
      "padding": null,
      "right": null,
      "top": null,
      "visibility": null,
      "width": null
     }
    },
    "1afe04a339424689bd06b77f4ad4159b": {
     "model_module": "@jupyter-widgets/base",
     "model_module_version": "1.2.0",
     "model_name": "LayoutModel",
     "state": {
      "_model_module": "@jupyter-widgets/base",
      "_model_module_version": "1.2.0",
      "_model_name": "LayoutModel",
      "_view_count": null,
      "_view_module": "@jupyter-widgets/base",
      "_view_module_version": "1.2.0",
      "_view_name": "LayoutView",
      "align_content": null,
      "align_items": null,
      "align_self": null,
      "border": null,
      "bottom": null,
      "display": null,
      "flex": null,
      "flex_flow": null,
      "grid_area": null,
      "grid_auto_columns": null,
      "grid_auto_flow": null,
      "grid_auto_rows": null,
      "grid_column": null,
      "grid_gap": null,
      "grid_row": null,
      "grid_template_areas": null,
      "grid_template_columns": null,
      "grid_template_rows": null,
      "height": null,
      "justify_content": null,
      "justify_items": null,
      "left": null,
      "margin": null,
      "max_height": null,
      "max_width": null,
      "min_height": null,
      "min_width": null,
      "object_fit": null,
      "object_position": null,
      "order": null,
      "overflow": null,
      "overflow_x": null,
      "overflow_y": null,
      "padding": null,
      "right": null,
      "top": null,
      "visibility": null,
      "width": null
     }
    },
    "21ebdfb79e4e4085bc96e41f600b7762": {
     "model_module": "@jupyter-widgets/controls",
     "model_module_version": "1.5.0",
     "model_name": "DescriptionStyleModel",
     "state": {
      "_model_module": "@jupyter-widgets/controls",
      "_model_module_version": "1.5.0",
      "_model_name": "DescriptionStyleModel",
      "_view_count": null,
      "_view_module": "@jupyter-widgets/base",
      "_view_module_version": "1.2.0",
      "_view_name": "StyleView",
      "description_width": ""
     }
    },
    "22aae80a680146349e893e8b6bf4f1cb": {
     "model_module": "@jupyter-widgets/controls",
     "model_module_version": "1.5.0",
     "model_name": "FloatProgressModel",
     "state": {
      "_dom_classes": [],
      "_model_module": "@jupyter-widgets/controls",
      "_model_module_version": "1.5.0",
      "_model_name": "FloatProgressModel",
      "_view_count": null,
      "_view_module": "@jupyter-widgets/controls",
      "_view_module_version": "1.5.0",
      "_view_name": "ProgressView",
      "bar_style": "success",
      "description": "",
      "description_tooltip": null,
      "layout": "IPY_MODEL_998fe40c1f97456e875b371516d7a76b",
      "max": 440449768,
      "min": 0,
      "orientation": "horizontal",
      "style": "IPY_MODEL_3a51a333d82848faa4df9fb4e8ea10ed",
      "value": 440449768
     }
    },
    "3a51a333d82848faa4df9fb4e8ea10ed": {
     "model_module": "@jupyter-widgets/controls",
     "model_module_version": "1.5.0",
     "model_name": "ProgressStyleModel",
     "state": {
      "_model_module": "@jupyter-widgets/controls",
      "_model_module_version": "1.5.0",
      "_model_name": "ProgressStyleModel",
      "_view_count": null,
      "_view_module": "@jupyter-widgets/base",
      "_view_module_version": "1.2.0",
      "_view_name": "StyleView",
      "bar_color": null,
      "description_width": ""
     }
    },
    "46b5dadbe28349a0bedd1f29f21fdb1a": {
     "model_module": "@jupyter-widgets/controls",
     "model_module_version": "1.5.0",
     "model_name": "HTMLModel",
     "state": {
      "_dom_classes": [],
      "_model_module": "@jupyter-widgets/controls",
      "_model_module_version": "1.5.0",
      "_model_name": "HTMLModel",
      "_view_count": null,
      "_view_module": "@jupyter-widgets/controls",
      "_view_module_version": "1.5.0",
      "_view_name": "HTMLView",
      "description": "",
      "description_tooltip": null,
      "layout": "IPY_MODEL_77b75aa87f89451bbab3c1bf144e4086",
      "placeholder": "​",
      "style": "IPY_MODEL_21ebdfb79e4e4085bc96e41f600b7762",
      "value": "model.safetensors: 100%"
     }
    },
    "498990bbfaa84c4582b061384948343b": {
     "model_module": "@jupyter-widgets/controls",
     "model_module_version": "1.5.0",
     "model_name": "DescriptionStyleModel",
     "state": {
      "_model_module": "@jupyter-widgets/controls",
      "_model_module_version": "1.5.0",
      "_model_name": "DescriptionStyleModel",
      "_view_count": null,
      "_view_module": "@jupyter-widgets/base",
      "_view_module_version": "1.2.0",
      "_view_name": "StyleView",
      "description_width": ""
     }
    },
    "53992ff696954791ab947ec92a7903a0": {
     "model_module": "@jupyter-widgets/base",
     "model_module_version": "1.2.0",
     "model_name": "LayoutModel",
     "state": {
      "_model_module": "@jupyter-widgets/base",
      "_model_module_version": "1.2.0",
      "_model_name": "LayoutModel",
      "_view_count": null,
      "_view_module": "@jupyter-widgets/base",
      "_view_module_version": "1.2.0",
      "_view_name": "LayoutView",
      "align_content": null,
      "align_items": null,
      "align_self": null,
      "border": null,
      "bottom": null,
      "display": null,
      "flex": null,
      "flex_flow": null,
      "grid_area": null,
      "grid_auto_columns": null,
      "grid_auto_flow": null,
      "grid_auto_rows": null,
      "grid_column": null,
      "grid_gap": null,
      "grid_row": null,
      "grid_template_areas": null,
      "grid_template_columns": null,
      "grid_template_rows": null,
      "height": null,
      "justify_content": null,
      "justify_items": null,
      "left": null,
      "margin": null,
      "max_height": null,
      "max_width": null,
      "min_height": null,
      "min_width": null,
      "object_fit": null,
      "object_position": null,
      "order": null,
      "overflow": null,
      "overflow_x": null,
      "overflow_y": null,
      "padding": null,
      "right": null,
      "top": null,
      "visibility": null,
      "width": null
     }
    },
    "53fc60f4c298454ba42cb1a403438c90": {
     "model_module": "@jupyter-widgets/controls",
     "model_module_version": "1.5.0",
     "model_name": "DescriptionStyleModel",
     "state": {
      "_model_module": "@jupyter-widgets/controls",
      "_model_module_version": "1.5.0",
      "_model_name": "DescriptionStyleModel",
      "_view_count": null,
      "_view_module": "@jupyter-widgets/base",
      "_view_module_version": "1.2.0",
      "_view_name": "StyleView",
      "description_width": ""
     }
    },
    "565b8a47e6d14cdfa61b4b38d031b938": {
     "model_module": "@jupyter-widgets/controls",
     "model_module_version": "1.5.0",
     "model_name": "HTMLModel",
     "state": {
      "_dom_classes": [],
      "_model_module": "@jupyter-widgets/controls",
      "_model_module_version": "1.5.0",
      "_model_name": "HTMLModel",
      "_view_count": null,
      "_view_module": "@jupyter-widgets/controls",
      "_view_module_version": "1.5.0",
      "_view_name": "HTMLView",
      "description": "",
      "description_tooltip": null,
      "layout": "IPY_MODEL_ac09d663956c4e6e9fdea5c9af136df4",
      "placeholder": "​",
      "style": "IPY_MODEL_0bb982e0a7b04448a2cd3d004d4cb15c",
      "value": " 2000/2000 [00:00&lt;00:00, 5123.74 examples/s]"
     }
    },
    "6d4ffe3df6844532aa9924e7ca267315": {
     "model_module": "@jupyter-widgets/controls",
     "model_module_version": "1.5.0",
     "model_name": "HTMLModel",
     "state": {
      "_dom_classes": [],
      "_model_module": "@jupyter-widgets/controls",
      "_model_module_version": "1.5.0",
      "_model_name": "HTMLModel",
      "_view_count": null,
      "_view_module": "@jupyter-widgets/controls",
      "_view_module_version": "1.5.0",
      "_view_name": "HTMLView",
      "description": "",
      "description_tooltip": null,
      "layout": "IPY_MODEL_c5b843c5f713486387857fa7f8cbec64",
      "placeholder": "​",
      "style": "IPY_MODEL_53fc60f4c298454ba42cb1a403438c90",
      "value": "Map: 100%"
     }
    },
    "77b75aa87f89451bbab3c1bf144e4086": {
     "model_module": "@jupyter-widgets/base",
     "model_module_version": "1.2.0",
     "model_name": "LayoutModel",
     "state": {
      "_model_module": "@jupyter-widgets/base",
      "_model_module_version": "1.2.0",
      "_model_name": "LayoutModel",
      "_view_count": null,
      "_view_module": "@jupyter-widgets/base",
      "_view_module_version": "1.2.0",
      "_view_name": "LayoutView",
      "align_content": null,
      "align_items": null,
      "align_self": null,
      "border": null,
      "bottom": null,
      "display": null,
      "flex": null,
      "flex_flow": null,
      "grid_area": null,
      "grid_auto_columns": null,
      "grid_auto_flow": null,
      "grid_auto_rows": null,
      "grid_column": null,
      "grid_gap": null,
      "grid_row": null,
      "grid_template_areas": null,
      "grid_template_columns": null,
      "grid_template_rows": null,
      "height": null,
      "justify_content": null,
      "justify_items": null,
      "left": null,
      "margin": null,
      "max_height": null,
      "max_width": null,
      "min_height": null,
      "min_width": null,
      "object_fit": null,
      "object_position": null,
      "order": null,
      "overflow": null,
      "overflow_x": null,
      "overflow_y": null,
      "padding": null,
      "right": null,
      "top": null,
      "visibility": null,
      "width": null
     }
    },
    "82882b5f60124671a24a441dd69744f0": {
     "model_module": "@jupyter-widgets/controls",
     "model_module_version": "1.5.0",
     "model_name": "HBoxModel",
     "state": {
      "_dom_classes": [],
      "_model_module": "@jupyter-widgets/controls",
      "_model_module_version": "1.5.0",
      "_model_name": "HBoxModel",
      "_view_count": null,
      "_view_module": "@jupyter-widgets/controls",
      "_view_module_version": "1.5.0",
      "_view_name": "HBoxView",
      "box_style": "",
      "children": [
       "IPY_MODEL_46b5dadbe28349a0bedd1f29f21fdb1a",
       "IPY_MODEL_22aae80a680146349e893e8b6bf4f1cb",
       "IPY_MODEL_f5749f315a094134bb7c5609cc63ebfa"
      ],
      "layout": "IPY_MODEL_0b93f82459a947fdbfe51344084430e0"
     }
    },
    "998fe40c1f97456e875b371516d7a76b": {
     "model_module": "@jupyter-widgets/base",
     "model_module_version": "1.2.0",
     "model_name": "LayoutModel",
     "state": {
      "_model_module": "@jupyter-widgets/base",
      "_model_module_version": "1.2.0",
      "_model_name": "LayoutModel",
      "_view_count": null,
      "_view_module": "@jupyter-widgets/base",
      "_view_module_version": "1.2.0",
      "_view_name": "LayoutView",
      "align_content": null,
      "align_items": null,
      "align_self": null,
      "border": null,
      "bottom": null,
      "display": null,
      "flex": null,
      "flex_flow": null,
      "grid_area": null,
      "grid_auto_columns": null,
      "grid_auto_flow": null,
      "grid_auto_rows": null,
      "grid_column": null,
      "grid_gap": null,
      "grid_row": null,
      "grid_template_areas": null,
      "grid_template_columns": null,
      "grid_template_rows": null,
      "height": null,
      "justify_content": null,
      "justify_items": null,
      "left": null,
      "margin": null,
      "max_height": null,
      "max_width": null,
      "min_height": null,
      "min_width": null,
      "object_fit": null,
      "object_position": null,
      "order": null,
      "overflow": null,
      "overflow_x": null,
      "overflow_y": null,
      "padding": null,
      "right": null,
      "top": null,
      "visibility": null,
      "width": null
     }
    },
    "ac09d663956c4e6e9fdea5c9af136df4": {
     "model_module": "@jupyter-widgets/base",
     "model_module_version": "1.2.0",
     "model_name": "LayoutModel",
     "state": {
      "_model_module": "@jupyter-widgets/base",
      "_model_module_version": "1.2.0",
      "_model_name": "LayoutModel",
      "_view_count": null,
      "_view_module": "@jupyter-widgets/base",
      "_view_module_version": "1.2.0",
      "_view_name": "LayoutView",
      "align_content": null,
      "align_items": null,
      "align_self": null,
      "border": null,
      "bottom": null,
      "display": null,
      "flex": null,
      "flex_flow": null,
      "grid_area": null,
      "grid_auto_columns": null,
      "grid_auto_flow": null,
      "grid_auto_rows": null,
      "grid_column": null,
      "grid_gap": null,
      "grid_row": null,
      "grid_template_areas": null,
      "grid_template_columns": null,
      "grid_template_rows": null,
      "height": null,
      "justify_content": null,
      "justify_items": null,
      "left": null,
      "margin": null,
      "max_height": null,
      "max_width": null,
      "min_height": null,
      "min_width": null,
      "object_fit": null,
      "object_position": null,
      "order": null,
      "overflow": null,
      "overflow_x": null,
      "overflow_y": null,
      "padding": null,
      "right": null,
      "top": null,
      "visibility": null,
      "width": null
     }
    },
    "c5b843c5f713486387857fa7f8cbec64": {
     "model_module": "@jupyter-widgets/base",
     "model_module_version": "1.2.0",
     "model_name": "LayoutModel",
     "state": {
      "_model_module": "@jupyter-widgets/base",
      "_model_module_version": "1.2.0",
      "_model_name": "LayoutModel",
      "_view_count": null,
      "_view_module": "@jupyter-widgets/base",
      "_view_module_version": "1.2.0",
      "_view_name": "LayoutView",
      "align_content": null,
      "align_items": null,
      "align_self": null,
      "border": null,
      "bottom": null,
      "display": null,
      "flex": null,
      "flex_flow": null,
      "grid_area": null,
      "grid_auto_columns": null,
      "grid_auto_flow": null,
      "grid_auto_rows": null,
      "grid_column": null,
      "grid_gap": null,
      "grid_row": null,
      "grid_template_areas": null,
      "grid_template_columns": null,
      "grid_template_rows": null,
      "height": null,
      "justify_content": null,
      "justify_items": null,
      "left": null,
      "margin": null,
      "max_height": null,
      "max_width": null,
      "min_height": null,
      "min_width": null,
      "object_fit": null,
      "object_position": null,
      "order": null,
      "overflow": null,
      "overflow_x": null,
      "overflow_y": null,
      "padding": null,
      "right": null,
      "top": null,
      "visibility": null,
      "width": null
     }
    },
    "c92e8fce7d1d4dd7bc168a9a59c01365": {
     "model_module": "@jupyter-widgets/controls",
     "model_module_version": "1.5.0",
     "model_name": "FloatProgressModel",
     "state": {
      "_dom_classes": [],
      "_model_module": "@jupyter-widgets/controls",
      "_model_module_version": "1.5.0",
      "_model_name": "FloatProgressModel",
      "_view_count": null,
      "_view_module": "@jupyter-widgets/controls",
      "_view_module_version": "1.5.0",
      "_view_name": "ProgressView",
      "bar_style": "success",
      "description": "",
      "description_tooltip": null,
      "layout": "IPY_MODEL_53992ff696954791ab947ec92a7903a0",
      "max": 2000,
      "min": 0,
      "orientation": "horizontal",
      "style": "IPY_MODEL_f2c08ed9df874b169a421f3b76253bae",
      "value": 2000
     }
    },
    "f22df25bbdfd4c318046b5881431d8f2": {
     "model_module": "@jupyter-widgets/controls",
     "model_module_version": "1.5.0",
     "model_name": "HBoxModel",
     "state": {
      "_dom_classes": [],
      "_model_module": "@jupyter-widgets/controls",
      "_model_module_version": "1.5.0",
      "_model_name": "HBoxModel",
      "_view_count": null,
      "_view_module": "@jupyter-widgets/controls",
      "_view_module_version": "1.5.0",
      "_view_name": "HBoxView",
      "box_style": "",
      "children": [
       "IPY_MODEL_6d4ffe3df6844532aa9924e7ca267315",
       "IPY_MODEL_c92e8fce7d1d4dd7bc168a9a59c01365",
       "IPY_MODEL_565b8a47e6d14cdfa61b4b38d031b938"
      ],
      "layout": "IPY_MODEL_1afe04a339424689bd06b77f4ad4159b"
     }
    },
    "f2c08ed9df874b169a421f3b76253bae": {
     "model_module": "@jupyter-widgets/controls",
     "model_module_version": "1.5.0",
     "model_name": "ProgressStyleModel",
     "state": {
      "_model_module": "@jupyter-widgets/controls",
      "_model_module_version": "1.5.0",
      "_model_name": "ProgressStyleModel",
      "_view_count": null,
      "_view_module": "@jupyter-widgets/base",
      "_view_module_version": "1.2.0",
      "_view_name": "StyleView",
      "bar_color": null,
      "description_width": ""
     }
    },
    "f5749f315a094134bb7c5609cc63ebfa": {
     "model_module": "@jupyter-widgets/controls",
     "model_module_version": "1.5.0",
     "model_name": "HTMLModel",
     "state": {
      "_dom_classes": [],
      "_model_module": "@jupyter-widgets/controls",
      "_model_module_version": "1.5.0",
      "_model_name": "HTMLModel",
      "_view_count": null,
      "_view_module": "@jupyter-widgets/controls",
      "_view_module_version": "1.5.0",
      "_view_name": "HTMLView",
      "description": "",
      "description_tooltip": null,
      "layout": "IPY_MODEL_17bb0346995d4dfd85685c3fadaccfa3",
      "placeholder": "​",
      "style": "IPY_MODEL_498990bbfaa84c4582b061384948343b",
      "value": " 440M/440M [00:05&lt;00:00, 73.7MB/s]"
     }
    }
   }
  }
 },
 "nbformat": 4,
 "nbformat_minor": 4
}
